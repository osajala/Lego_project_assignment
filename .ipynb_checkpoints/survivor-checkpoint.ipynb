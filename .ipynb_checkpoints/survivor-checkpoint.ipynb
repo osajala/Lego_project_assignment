{
 "cells": [
  {
   "cell_type": "markdown",
   "metadata": {},
   "source": [
    "# DTSC-580: Data Manipulation\n",
    "## Assignment: Survivor\n",
    "\n",
    "### Name:\n",
    "\n",
    "## Overview\n",
    "\n",
    "In this assignment, you will test all the skills that you have learned during this course to manipulate the provided data to find the answers to questions about the TV show Survivor.  If you are not familiar with this show, start by watching this short clip that briefly explains it:  [Survivor Explained](https://www.youtube.com/watch?v=l1-hTpG_krk)\n",
    "\n",
    "Please note that your notebook should be named `survivor` when submitting to CodeGrade for the automatic grading to work properly.\n",
    "\n",
    "## Data\n",
    "\n",
    "The Survivor data is a R package from Daniel Oehm.  Daniel has made the data for this package available as an Excel file as explained in his article on [gradientdescending.com](http://gradientdescending.com/survivor-data-from-the-tv-series-in-r/).  Please make sure that you use the file from our Brightspace page though to make sure that your data will match what CodeGrade is expecting.  We have also updated some errors in the file, which is another reason that you must use the data given to you.\n",
    "\n",
    "You need to first read the article on the website linked above.  This will give you additional details about the data that will be important as you answer the questions below.\n",
    "\n",
    "Please note that there is a data dictionary in the file that explains the columns in the data.  You will also want to become familiar with the various spreadsheets and column names.  This will help you out tremendously in this assignment.\n",
    "\n",
    "Finally, here are a couple of things to know for those of you that have not seen the show:\n",
    "- Survivor is a reality TV show that first aired May 31, 2000 and is currently still on TV.\n",
    "- Contestants are broken up into two teams (usually) where they live in separate camps. \n",
    "- The teams compete in various challenges for rewards (food, supplies, brief experience trips, etc) and tribal immunity.  \n",
    "- The team that loses a challenge, and therefore doesn't get the tribal immunity, goes to tribal council where they have to vote one of their members out (this data is represented in the \"Vote History\" spreadsheet).\n",
    "- After there are a small number of contestants left, the tribes are merged into one tribe where each contestant competes for individual immunity.  The winner of the individual immunity cannot get voted out and is safe at the next tribal council.\n",
    "- The are also hidden immunity idols that are hidden around the campground.  If a contestant finds and plays their hidden immunity at the tribal council, then all votes against them do not count, and the player with the next highest number of votes goes home.\n",
    "- When the contestants get down to 2 or 3 people, a number of the last contestants, known as the jury, come back to vote for the person who they think should win the game.  The winner is the one who gets the most jury votes (this data is represented in the \"Jury Votes\" spreadsheet).  This person is known as the Sole Survivor.\n",
    "- Voting recap: \n",
    "    - Tribal Council votes (Vote History spreadsheet) are bad; contestants with the most votes get sent home\n",
    "    - Jury Votes (Jury Votes spreadsheet) are good; contestants with the most votes win the game and is the Sole Survivor\n",
    "\n",
    "## Note\n",
    "\n",
    "<u>Show Work</u>\n",
    "\n",
    "Remember that you must show your work.  Students submissions are spot checked manually to verify that they are not hard coding the answer from looking only in the file or in CodeGrade's expected output.  If this is seen, the student's answer will be manually marked wrong and their grade will be changed to reflect this.\n",
    "\n",
    "For example, if the question is who is the contestant who has received the most tribal votes to be voted out.  Select their record from the `castaway_details` DataFrame.  \n",
    "\n",
    "You would show your work and code similar to this:\n",
    "```\n",
    "### incorrect way ###\n",
    "Q1 = castaway_details[castaway_details['castaway_id'] ==  333]\n",
    "\n",
    "### correct way - showing your work ###\n",
    "# get index\n",
    "idx = vote_history.groupby('vote_id').size().sort_values(ascending=False).index[0]\n",
    "\n",
    "# select row based on index \n",
    "Q1 = castaway_details[castaway_details['castaway_id'] ==  idx]\n",
    "```\n",
    "\n",
    "<u>Use Copy</u>\n",
    "\n",
    "Don't change any of the original DataFrames unless specifically asked or CodeGrade will not work correctly for this assignment.  Make sure you use `copy()` if needed."
   ]
  },
  {
   "cell_type": "code",
   "execution_count": 1,
   "metadata": {},
   "outputs": [],
   "source": [
    "# standard imports\n",
    "import pandas as pd\n",
    "import numpy as np\n",
    "\n",
    "# Do not change this option; This allows the CodeGrade auto grading to function correctly\n",
    "pd.set_option('display.max_columns', None)"
   ]
  },
  {
   "cell_type": "markdown",
   "metadata": {},
   "source": [
    "First, import the data from the `survivor.xlsx` file, calling the respective DataFrames the same as the sheet name but with lowercase and [snake case](https://en.wikipedia.org/wiki/Snake_case).  For example, the sheet called `Castaway Details` should be saved as a DataFrame called `castaway_details`.  Make sure that the data files are in the same folder as your notebook.\n",
    "\n",
    "Note:  You may or may not need to install [openpyxl](https://openpyxl.readthedocs.io/en/stable/) for the code below to work.  You can use: `$ pip install openpyxl`"
   ]
  },
  {
   "cell_type": "code",
   "execution_count": 3,
   "metadata": {},
   "outputs": [],
   "source": [
    "# import data from Excel\n",
    "\n",
    "# setup Filename and Object\n",
    "fileName = \"survivor.xlsx\"\n",
    "xls = pd.ExcelFile(fileName)\n",
    "\n",
    "# import individual sheets\n",
    "castaway_details = pd.read_excel(xls, 'Castaway Details')\n",
    "castaways = pd.read_excel(xls, 'Castaways')\n",
    "challenge_description = pd.read_excel(xls, 'Challenge Description')\n",
    "challenge_results = pd.read_excel(xls, 'Challenge Results')\n",
    "confessionals = pd.read_excel(xls, 'Confessionals')\n",
    "hidden_idols = pd.read_excel(xls, 'Hidden Idols')\n",
    "jury_votes = pd.read_excel(xls, 'Jury Votes')\n",
    "tribe_mapping = pd.read_excel(xls, 'Tribe Mapping')\n",
    "viewers = pd.read_excel(xls, 'Viewers')\n",
    "vote_history = pd.read_excel(xls, 'Vote History')\n",
    "season_summary = pd.read_excel(xls, 'Season Summary')\n",
    "season_palettes = pd.read_excel(xls, 'Season Palettes')\n",
    "tribe_colours = pd.read_excel(xls, 'Tribe Colours')"
   ]
  },
  {
   "cell_type": "markdown",
   "metadata": {},
   "source": [
    "**Exercise1:** Change every column name of every DataFrame to lowercase and snake case.  This is a standard first step for some programmers as lowercase makes it easier to write and snake case makes it easier to copy multiple-word column names.\n",
    "\n",
    "For example, `Castaway Id` should end up being `castaway_id`.  You should try doing this using a `for` loop instead of manually changing the names for each column.  It should take you no more than a few lines of code.  Use stackoverflow if you need help."
   ]
  },
  {
   "cell_type": "code",
   "execution_count": 4,
   "metadata": {},
   "outputs": [],
   "source": [
    "df_list = [castaway_details,castaways,challenge_description,challenge_results,confessionals,hidden_idols,\n",
    "           jury_votes,tribe_mapping,viewers,vote_history,season_summary,season_palettes,tribe_colours]\n",
    "\n",
    "for df in df_list:\n",
    "    df.columns=df.columns.str.lower().str.replace(' ', '_')"
   ]
  },
  {
   "cell_type": "markdown",
   "metadata": {},
   "source": [
    "**Q2:** What contestant was the oldest at the time of their season?  We want to look at their age at the time of the season and NOT their current age.  Select their row from the `castaway_details` DataFrame and save this as `Q2`.  This should return a DataFrame and the index and missing values should be left as is."
   ]
  },
  {
   "cell_type": "code",
   "execution_count": 5,
   "metadata": {},
   "outputs": [],
   "source": [
    "# merge the two dataframe castaway_details and castaways\n",
    "#merge1 = castaway_details.merge(castaways, how='outer')\n",
    "# sort by age and pick top 1 to have the oldest\n",
    "#merge2 = merge1.sort_values('age', ascending=False)[:1]\n",
    "# use the castaway_id from step above to filter the oldest contestant row in castaway_details dataframe\n",
    "#Q2 = merge2[['castaway_id','full_name','short_name', 'date_of_birth','gender','race','ethnicity','occupation','personality_type']]\n",
    "\n",
    "# or sort the castaways dataFrame by age and pick the top 1 \n",
    "Q2_1 = castaways.sort_values(by='age', ascending=False).index[0]\n",
    "Q2_1 = castaways.loc[Q2_1,'castaway_id']\n",
    "# use the castaway_id from step above to filter the oldest contestant row in castaway_details dataframe\n",
    "Q2 = castaway_details[castaway_details['castaway_id'] == Q2_1]"
   ]
  },
  {
   "cell_type": "markdown",
   "metadata": {},
   "source": [
    "**Q3:** What contestant played in the most number of seasons? Select their row from the `castaway_details` DataFrame and save this as `Q3`.  This should return a DataFrame and the index and missing values should be left as is."
   ]
  },
  {
   "cell_type": "code",
   "execution_count": 6,
   "metadata": {},
   "outputs": [],
   "source": [
    "# use pivot_table to get the contestant that play most number of seasons\n",
    "Q3_1 = castaways.pivot_table('season',index=['full_name','castaway_id'], aggfunc='sum').sort_values(by='season', ascending=False).index[0][1]\n",
    "# or\n",
    "#castaways.groupby(['full_name','castaway_id'])['season'].sum().sort_values(ascending=False).index[0][1]\n",
    "Q3_1\n",
    "# use the castaway_id from step above to filter the contestant row in castaway_details dataframe with most number of seasons\n",
    "Q3 = castaway_details.loc[castaway_details['castaway_id'] == Q3_1]"
   ]
  },
  {
   "cell_type": "markdown",
   "metadata": {},
   "source": [
    "**Q4:** Create a DataFrame of all the contestants that won their season (aka their final result in the `castaways` DataFrame was the 'Sole Survivor').  Call this DataFrame `sole_survivor`.  Note that contestants may appear more than one time in this DataFrame if they won more than one season.  Make sure that the index goes from 0 to n-1 and that the DataFrame is sorted ascending by season number.\n",
    "\n",
    "The DataFrame should have the same columns, and the columns should be in the same order, as the `castaways` DataFrame."
   ]
  },
  {
   "cell_type": "code",
   "execution_count": 7,
   "metadata": {
    "scrolled": false
   },
   "outputs": [],
   "source": [
    "#sole_survivor = castaways.loc[castaways['result']=='Sole Survivor'].reset_index(drop=True).sort_values('season', ascending=False)\n",
    "\n",
    "sole_survivor = castaways.loc[castaways['result']=='Sole Survivor'].sort_values('season', ascending=False).reset_index(drop=True)"
   ]
  },
  {
   "cell_type": "markdown",
   "metadata": {},
   "source": [
    "**Q5:** Have any contestants won more than one time?  If so, select their records from the `sole_survivor` DataFrame, sorting the rows by season.  Save this as `Q5`.  If no contestant has won twice, save `Q5` as the string `None`."
   ]
  },
  {
   "cell_type": "code",
   "execution_count": 8,
   "metadata": {},
   "outputs": [],
   "source": [
    "# use groupby function on full_name and result cols and sort- identify contestant that appear more than one\n",
    "sole_survivor.groupby(['full_name','result']).size().sort_values(ascending=False)\n",
    "\n",
    "# employ the identified contestants to filter their info from sole_survivor dataframe\n",
    "Q5 = sole_survivor.loc[(sole_survivor['full_name']=='Tony Vlachos') | (sole_survivor['full_name']=='Sandra Diaz-Twine')].sort_values('season')"
   ]
  },
  {
   "cell_type": "markdown",
   "metadata": {},
   "source": [
    "**Q6:** What is the average age of contestants when they appeared on the show?  Save this as `Q6`.  Round to nearest integer."
   ]
  },
  {
   "cell_type": "code",
   "execution_count": 9,
   "metadata": {},
   "outputs": [],
   "source": [
    "Q6 = round(castaways['age'].mean())"
   ]
  },
  {
   "cell_type": "markdown",
   "metadata": {},
   "source": [
    "**Q7:** Who played the most total number of days of Survivor? If a contestant appeared on more than one season, you would add their total days for each season together. Save the top five contestants in terms of total days played as a DataFrame and call it `Q7`, sorted in descending order by total days played.  \n",
    "\n",
    "The following columns should be included: `castaway_id`, `full_name`, and `total_days_played` where `total_days_played` is the sum of all days a contestant played. The index should go from 0 to n-1.\n",
    "\n",
    "Note:  Be careful because on some seasons, the contestant was allowed to come back into the game after being voted off.  Take a look at [Season 23's contestant Oscar Lusth](https://en.wikipedia.org/wiki/Ozzy_Lusth#South_Pacific) in the `castaways` DataFrame as an example.  He was voted out 7th and then returned to the game.  He was then voted out 9th and returned to the game a second time.  He was then voted out 17th the final time.  Be aware of this in your calculations and make sure you are counting the days according to the last time they were voted off or won. "
   ]
  },
  {
   "cell_type": "code",
   "execution_count": 16,
   "metadata": {},
   "outputs": [],
   "source": [
    "#castaways.pivot_table('day',index=['full_name','season'], aggfunc='sum').sort_values(by='day', ascending=False)\n",
    "#castaways.pivot_table('day',index=['full_name','season_name', 'season'], aggfunc='sum').sort_values(by='day', ascending=False)\n",
    "#Q7 = pd.DataFrame(castaways.groupby(['castaway_id','full_name'])['day'].sum().sort_values(ascending=False).head()).reset_index()\n",
    "#Q7\n",
    "\n",
    "# Or\n",
    "Q7 = castaways.pivot_table('day',index=['castaway_id','full_name'], aggfunc='max').sort_values(by='day', ascending=False).head(5)\n",
    "#Q7 = castaways.pivot_table('day',index=['castaway_id','full_name'], aggfunc='sum').sort_values(by='day', ascending=False)[:5]\n",
    "Q7.rename(columns ={'day':'total_days_played'}).reset_index()\n",
    "\n",
    "# Or\n",
    "#total_days_played = castaways.groupby(['castaway_id','full_name'])['day'].max().reset_index()\n",
    "#total_days_played.rename(columns = {'day':'total_days_played'}, inplace=True)\n",
    "# sort total_days_played dataframe by total_days_played\n",
    "#Q7 = total_days_played.sort_values('total_days_played', ascending = False).reset_index(drop=True)[:5]"
   ]
  },
  {
   "cell_type": "code",
   "execution_count": 18,
   "metadata": {},
   "outputs": [],
   "source": [
    "# merge castsaways and challenge results dataframe \n",
    "#Q7_1 = castaways.merge(challenge_results, on=['season_name','season','episode','day'])\n",
    "total_days_played = Q7_1.groupby(['castaway_id','full_name'])['day'].max().reset_index()\n",
    "total_days_played.rename(columns = {'day':'total_days_played'}, inplace=True)\n",
    "# sort total_days_played dataframe by total_days_played\n",
    "#Q7 = total_days_played.sort_values('total_days_played', ascending = False).reset_index(drop=True)[:5]"
   ]
  },
  {
   "cell_type": "code",
   "execution_count": 22,
   "metadata": {},
   "outputs": [],
   "source": [
    "#challenge_rescopy = challenge_results.copy()\n",
    "#challenge_rescopy = challenge_rescopy.rename(columns = {'winner_id':'castaway_id'})\n",
    "# merge castsaways and challenge results dataframe \n",
    "#Q7_1 = castaways.merge(challenge_rescopy, on=['castaway_id','season_name','season','episode','day'])\n",
    "#total_days_played = Q7_1.groupby(['castaway_id','full_name'])['day'].max().reset_index()\n",
    "#total_days_played.rename(columns = {'day':'total_days_played'}, inplace=True)\n",
    "# sort total_days_played dataframe by total_days_played\n",
    "#Q7 = total_days_played.sort_values('total_days_played', ascending = False).reset_index(drop=True)[:5]"
   ]
  },
  {
   "cell_type": "markdown",
   "metadata": {},
   "source": [
    "**Q8A & Q8B**: Using the `castaway_details` data, what is the percentage of total extroverts and introverts that have played the game (count players only once even if they have played in more than one season).  Do not count contestants without a personality type listed in your calculations.  Save these percentages as `Q8A` and `Q8B` respectively.  Note: Round all percentages to two decimal points and write as a float (example: 55.57).  \n",
    "\n",
    "For more information on personality types check this [Wikipedia article](https://en.wikipedia.org/wiki/Myers%E2%80%93Briggs_Type_Indicator)."
   ]
  },
  {
   "cell_type": "code",
   "execution_count": 28,
   "metadata": {},
   "outputs": [],
   "source": [
    "castaway_details_copy = castaway_details.copy()\n",
    "#Q8a = castaway_details.loc[(castaway_details['personality_type'] == 'ISFP')|(castaway_details['personality_type'] =='ISTJ')|\n",
    "                           #(castaway_details['personality_type'] =='INFP')|(castaway_details['personality_type'] == 'ISFJ')|\n",
    "                           #(castaway_details['personality_type'] =='ISTP')|(castaway_details['personality_type'] =='INFJ')|\n",
    "                           #(castaway_details['personality_type'] =='INTJ')]\n",
    "#Q8a['personality_type'].value_counts(normalize=True).mul(100).round(2)\n",
    "\n",
    "#Q8dic = {['ENFP', 'ESFP','ESTP','ESTJ','ENTP','ESFJ','ENFJ','ENTJ']:'extroverts',['ISFP','ISTJ','INFP','ISFJ','ISTP','INFJ','INTJ']:'introverts'}\n",
    "#castaway_details_copy['personality_type'].value_counts(normalize=True).mul(100).round(2)\n",
    "castaway_details_copy['personality_type'] = castaway_details_copy['personality_type'].replace(['ENFP', 'ESFP','ESTP','ESTJ','ENTP','ESFJ','ENFJ','ENTJ'],'extroverts') \n",
    "\n",
    "castaway_details_copy['personality_type'] = castaway_details_copy['personality_type'].replace(['ISFP','ISTJ','INFP','ISFJ','ISTP','INFJ','INTJ','INTP'],'introverts')\n",
    "\n",
    "# Or\n",
    "\n",
    "#castaway_details_copy1 = castaway_details.copy()\n",
    "#castaway_details_copy1 = castaway_details_copy1.dropna(subset=['personality_type'])\n",
    "#extroverts = len(castaway_details_copy1[castaway_details_copy1['personality_type'].str.contains('E')]['full_name'].unique())\n",
    "#introverts = len(castaway_details_copy1[castaway_details_copy1['personality_type'].str.contains('I')]['full_name'].unique())\n",
    "#total_players = len(castaway_details_copy1['full_name'].unique())\n",
    "#Q8A = round((extroverts/total_players)*100, 2)\n",
    "#Q8B = round((introverts/total_players)*100, 2)"
   ]
  },
  {
   "cell_type": "code",
   "execution_count": 25,
   "metadata": {},
   "outputs": [],
   "source": [
    "Q8a = castaway_details_copy['personality_type'].value_counts(normalize=True).mul(100).round(2)"
   ]
  },
  {
   "cell_type": "code",
   "execution_count": 26,
   "metadata": {},
   "outputs": [],
   "source": [
    "Q8A = Q8a[0:1]"
   ]
  },
  {
   "cell_type": "code",
   "execution_count": 27,
   "metadata": {},
   "outputs": [],
   "source": [
    "Q8B = Q8a[1:]"
   ]
  },
  {
   "cell_type": "markdown",
   "metadata": {},
   "source": [
    "**Q9A & Q9B**: Now that we know the percentages of total players that are extroverted and introverted, let's see if that made a difference in terms of who actually won their season.\n",
    "\n",
    "What is the percentage of total extroverts and introverts that have won the game (count players only once even if they have won more than one season)? Save these percentages as Q9A and Q9B respectively. Note: Round all percentages to two decimal points and write as a float (example: 55.57)."
   ]
  },
  {
   "cell_type": "code",
   "execution_count": 29,
   "metadata": {},
   "outputs": [],
   "source": [
    "castaways_copy = castaways.copy()\n",
    "castaways_copy['personality_type'] = castaways_copy['personality_type'].replace(['ENFP', 'ESFP','ESTP','ESTJ','ENTP','ESFJ','ENFJ','ENTJ'],'extroverts') \n",
    "\n",
    "castaways_copy['personality_type'] = castaways_copy['personality_type'].replace(['ISFP','ISTJ','INFP','ISFJ','ISTP','INFJ','INTJ','INTP'],'introverts')"
   ]
  },
  {
   "cell_type": "code",
   "execution_count": 30,
   "metadata": {
    "scrolled": false
   },
   "outputs": [],
   "source": [
    "Q9_1 = castaways_copy.loc[castaways_copy['result']=='Sole Survivor']"
   ]
  },
  {
   "cell_type": "code",
   "execution_count": 31,
   "metadata": {},
   "outputs": [],
   "source": [
    "Q9a = Q9_1['personality_type'].value_counts(normalize=True).mul(100).round(2)"
   ]
  },
  {
   "cell_type": "code",
   "execution_count": 32,
   "metadata": {},
   "outputs": [],
   "source": [
    "Q9A = Q9a[0:1]"
   ]
  },
  {
   "cell_type": "code",
   "execution_count": 33,
   "metadata": {},
   "outputs": [],
   "source": [
    "Q9B = Q9a[1:]"
   ]
  },
  {
   "cell_type": "markdown",
   "metadata": {},
   "source": [
    "**Q10:** Which contestants have never received a tribal council vote (i.e. a vote to be voted out of the game as shown in the `vote_id` column in the `vote_history` DataFrame)? Note that there are various reasons for a contestant to not receive a tribal vote: they quit, made it to the end, medical emergency, etc.  Select their rows from the `castaway_details` DataFrame and save this as `Q10` in ascending order by `castaway_id`.  This should return a DataFrame and the index and missing values should be left as is."
   ]
  },
  {
   "cell_type": "code",
   "execution_count": 34,
   "metadata": {},
   "outputs": [],
   "source": [
    "# merge the castaway_details and vote_history dataFrame\n",
    "#Q10_1 = castaway_details.merge(vote_history, on = 'castaway_id', how='outer')\n",
    "\n",
    "# filter contestants that never received a tribal council vote and select columns as appear in castaway_details dataframe\n",
    "#Q10 = Q10_1.loc[Q10_1['vote_id'].isnull()][['castaway_id','full_name','short_name',\n",
    "                                        #'date_of_birth','date_of_death','gender','race','ethnicity','occupation',\n",
    "                                        #'personality_type']].sort_values(['castaway_id'],ascending=False)\n",
    "\n",
    "Q10_1 = vote_history[vote_history['vote_id'].isnull()]\n",
    "Q10_1a = Q10_1['castaway_id'].unique()\n",
    "Q10 = castaway_details[castaway_details['castaway_id'].isin(Q10_1a)].sort_values('castaway_id',ascending=True)"
   ]
  },
  {
   "cell_type": "markdown",
   "metadata": {},
   "source": [
    "**Q11:** What contestant has won the most number of challenges?  Select their row from the `castaway_details` DataFrame and save this as `Q11`.  This should return a DataFrame and the index and missing values should be left as is."
   ]
  },
  {
   "cell_type": "code",
   "execution_count": 35,
   "metadata": {},
   "outputs": [],
   "source": [
    "# value counts for winners in challenge_results dataframe and sort\n",
    "Q11_1 = challenge_results.groupby(['winner', 'winner_id'])['outcome_status'].value_counts().sort_values(ascending=False).index[0][1]\n",
    "\n",
    "# filter the winner info in castaway_details dataframe using the top winner from step above\n",
    "Q11 = castaway_details.loc[castaway_details['castaway_id']== Q11_1]"
   ]
  },
  {
   "cell_type": "markdown",
   "metadata": {},
   "source": [
    "**Q12:** Let's see how many winners ended up getting unanimous jury votes to win the game.  Create a Dataframe that shows the survivors that got unanimous jury votes with these columns in the final output: `season`, `season_name`, `winner_id`, `full_name`.  The DataFrame should be sorted by season and the index should go from 0 to n-1.  Save this as `Q12`. "
   ]
  },
  {
   "cell_type": "code",
   "execution_count": 178,
   "metadata": {},
   "outputs": [],
   "source": [
    "Q12_1 = pd.merge(castaways,jury_votes, how ='outer')\n",
    "\n",
    "Q12_1a = Q12_1.merge(challenge_results, on=['season_name','season','episode','day'], how='outer')\n",
    "#Q12 = Q12_1_1.loc[(Q12_1_1['total_votes_received'] == Q12_1_1['finalist'].count()) & (Q12_1_1['outcome_status'] == 'Winner')][['season', 'season_name', 'winner_id', 'full_name']].sort_values(['season'],ascending=False).reset_index(drop=True)\n",
    "#Q12 = Q12_1_1.loc[(Q12_1_1['vote'] == 0) & (Q12_1_1['outcome_status'] == 'Winner')][['season', 'season_name', 'winner_id', 'full_name']].sort_values(['season'],ascending=False).reset_index(drop=True)\n",
    "#Q12 = Q12_1_1.loc[(Q12_1_1['vote'] == 0)][['season', 'season_name', 'winner_id', 'full_name']].sort_values(['season'],ascending=False).reset_index(drop=True)"
   ]
  },
  {
   "cell_type": "code",
   "execution_count": 175,
   "metadata": {},
   "outputs": [],
   "source": [
    "jury_votes_copy = jury_votes.copy()\n",
    "groupby = jury_votes_copy.groupby(['season','finalist_id']).agg({'castaway_id':'count','vote':'sum'})\n",
    "groupby.sort_values('vote', inplace=True)"
   ]
  },
  {
   "cell_type": "code",
   "execution_count": 193,
   "metadata": {},
   "outputs": [],
   "source": [
    "#Q12_1adrop = Q12_1a['finalist_id'].dropna()"
   ]
  },
  {
   "cell_type": "code",
   "execution_count": 179,
   "metadata": {},
   "outputs": [],
   "source": [
    "Q12_1b = groupby[groupby['castaway_id'].isin(groupby['vote'])]"
   ]
  },
  {
   "cell_type": "code",
   "execution_count": 202,
   "metadata": {},
   "outputs": [],
   "source": [
    "#Q1211 = Q12_1bb.isin(Q12_1adrop)"
   ]
  },
  {
   "cell_type": "code",
   "execution_count": 181,
   "metadata": {},
   "outputs": [],
   "source": [
    "Q12_1b = Q12_1b.reset_index()"
   ]
  },
  {
   "cell_type": "code",
   "execution_count": 207,
   "metadata": {},
   "outputs": [
    {
     "data": {
      "text/plain": [
       "352"
      ]
     },
     "execution_count": 207,
     "metadata": {},
     "output_type": "execute_result"
    }
   ],
   "source": [
    "Q12_1bb = Q12_1b['finalist_id']"
   ]
  },
  {
   "cell_type": "code",
   "execution_count": 210,
   "metadata": {},
   "outputs": [],
   "source": [
    "#Q12_1a[Q12_1a['finalist_id'] == Q12_1b['finalist_id']]"
   ]
  },
  {
   "cell_type": "markdown",
   "metadata": {},
   "source": [
    "**Q13:** For the `castaway_details` DataFrame, there is a `full_name` column and a `short_name` column.  It would be helpful for future analysis to have the contestants first and last name split into separate columns.  First copy the `castaway_details` DataFrame to a new DataFrame called `Q13` so that we do not change the original DataFrame.  \n",
    "\n",
    "Create two new columns and add the contestant's first name to a new column called `first_name` and their last name to a new column called `last_name`.  Add these columns to the `Q13` DataFrame.  Put the `first_name` and `last_name` columns between the `full_name` and `short_name` columns.\n",
    "\n",
    "Note:  Be careful as some players have last names with multiple spaces.  For example, `Lex van den Berghe`.  You should code `Lex` as his first name and `van den Berghe` as his last name."
   ]
  },
  {
   "cell_type": "code",
   "execution_count": 38,
   "metadata": {},
   "outputs": [],
   "source": [
    "# make a copy of castaway_details dataframe\n",
    "Q13 = castaway_details.copy() \n",
    "\n",
    "#Q13[['first_name','last_name']] = Q13['full_name'].str.split(' ', n= 1, expand=True)\n",
    "#Q13['full_name'].str.split(' ', n= 1, expand=True)\n",
    "\n",
    "# split the full_name column into two - first_name & last_name\n",
    "Q13_1 = Q13['full_name'].str.split(' ', n= 1, expand=True)\n",
    "#Q13[['first_name','last_name']] = Q13_1-\n",
    "# use insert method to inset the col in bewtween full_name and \n",
    "Q13.insert(loc = 2, column = 'first_name', value = Q13_1[0])\n",
    "Q13.insert(loc = 3, column = 'last_name', value = Q13_1[1])"
   ]
  },
  {
   "cell_type": "markdown",
   "metadata": {},
   "source": [
    "**Q14:** Let's say that we wanted to predict a contestants personality type based on the information in the data files.  Your task is to create a DataFrame that lists the `castaway_id`, `full_name` and `personality_type` for each castaway contestant.  However, since most machine learning algorithms use numeric data, you want to change the personality types to the following numbers:\n",
    "- ISTJ - 1\n",
    "- ISTP - 2\n",
    "- ISFJ - 3\n",
    "- ISFP - 4\n",
    "- INFJ - 5\n",
    "- INFP - 6\n",
    "- INTJ - 7\n",
    "- INTP - 8\n",
    "- ESTP - 9\n",
    "- ESTJ - 10\n",
    "- ESFP - 11\n",
    "- ESFJ - 12\n",
    "- ENFP - 13\n",
    "- ENFJ - 14\n",
    "- ENTP - 15\n",
    "- ENTJ - 16\n",
    "- Missing values - 17\n",
    "\n",
    "Save this new DataFrame as `Q14` and sort based on `castaway_id` in ascending order."
   ]
  },
  {
   "cell_type": "code",
   "execution_count": 39,
   "metadata": {},
   "outputs": [
    {
     "name": "stderr",
     "output_type": "stream",
     "text": [
      "C:\\Users\\olajal\\AppData\\Local\\Temp\\ipykernel_46388\\937723851.py:9: SettingWithCopyWarning: \n",
      "A value is trying to be set on a copy of a slice from a DataFrame\n",
      "\n",
      "See the caveats in the documentation: https://pandas.pydata.org/pandas-docs/stable/user_guide/indexing.html#returning-a-view-versus-a-copy\n",
      "  Q14['personality_type'].replace(Q14_1,inplace=True)\n"
     ]
    }
   ],
   "source": [
    "# create a dataframe Q14 from castaway_details having cols 'castaway_id','full_name', and 'personality_type'\n",
    "Q14 = castaway_details[['castaway_id','full_name','personality_type']]\n",
    "# Replace missing values with 17 using fillna()\n",
    "#Q14.fillna(17, inplace=True)\n",
    "\n",
    "# reaplace the str values in personality_type col with int\n",
    "Q14_1 = {'ISTJ':1,'ISTP':2,'ISFJ':3,'ISFP':4,'INFJ':5,'INFP':6,'INTJ':7,'INTP':8,'ESTP':9,'ESTJ':10,\n",
    "                                        'ESFP':11,'ESFJ':12,'ENFP':13,'ENFJ':14,'ENTP':15,'ENTJ':16, np.nan:17}\n",
    "Q14['personality_type'].replace(Q14_1,inplace=True)\n",
    "#  sort based on castaway_id in ascending order\n",
    "Q14 = Q14.sort_values('castaway_id', ascending=True)"
   ]
  },
  {
   "cell_type": "markdown",
   "metadata": {},
   "source": [
    "**Q15:** After thinking about this some more, you realize that you don't want to code the personality traits as you did in problem 14 since the data is not ordinal.  Some machine learning algorithms will assume that numbers close to each other are more alike than those that are away from each other and that is not the case with these personality types.\n",
    "\n",
    "Let's create a new DataFrame called `Q15` that creates dummy columns (using `get_dummies`) for the original personality type column.  Add a prefix called \"type\" and drop the first column to help prevent multicollinearity.  The columns should be `castaway_id`, `full_name` followed by the various dummy columns for the personality types.  Don't worry about any missing values in this step.\n",
    "\n",
    "Remember: Don't change any of the original DataFrames or CodeGrade will not work correctly for this assignment.  Make sure you use `copy()` if needed."
   ]
  },
  {
   "cell_type": "code",
   "execution_count": 45,
   "metadata": {},
   "outputs": [],
   "source": [
    "Q15x = castaway_details.copy()\n",
    "Q15x = Q15x[['castaway_id', 'full_name','personality_type']]\n",
    "Q15 = pd.get_dummies(Q15x, prefix='type',columns=['personality_type'])"
   ]
  },
  {
   "cell_type": "markdown",
   "metadata": {},
   "source": [
    "**Q16:** After running your data above through your machine learning model, you determine that a better prediction might come from breaking the personality type into its four parts (one part for each character in the type).  Your task is now to create a DataFrame called `Q16` that splits the personality type into the various parts and creates a new column for each part (these columns should be called `interaction` that will represent the first letter in the personality type, `information` for the second letter, `decision` for the third, and `organization` for the fourth).\n",
    "\n",
    "Again, since most machine learning algorithms work with numeric data, perform the following on the four new columns:\n",
    "- `interaction` --> code all `I`'s as `0` and `E`'s as `1`\n",
    "- `information` --> code all `S`'s as `0` and `N`'s as `1`\n",
    "- `decision` --> code all `T`'s as `0` and `F`'s as `1`\n",
    "- `organization` --> code as `J`'s with `0` and `P`'s as `1`\n",
    "- Any missing values should be coded with a `2`\n",
    "- Double check that all of the above columns are an integer type.  Some students have a problem with CodeGrade because one of their columns ends up being a string instead of an int.\n",
    "\n",
    "For example, if a contestant's personality type was `ENTJ`, your columns for that row would be:\n",
    "- `1` for `interaction` because of the `E`\n",
    "- `1` for `information` because of the `N`\n",
    "- `0` for `decision` because of the `T` \n",
    "- `0` for `organization` because of the `J`\n",
    "\n",
    "The new DataFrame should be sorted in `castaway_id` order and have the following columns in this order: `castaway_id`, `full_name`, `personality_type`, `interaction`, `information`, `decision`, `organization`.\n",
    "\n",
    "Remember: Don't change any of the original DataFrames or CodeGrade will not work correctly for this assignment.  Make sure you use `copy()` if needed."
   ]
  },
  {
   "cell_type": "code",
   "execution_count": 42,
   "metadata": {},
   "outputs": [],
   "source": [
    "# select the columns of interest from castaway_details - castaway_id, full_name, personality_type\n",
    "#Q16 = castaway_details[['castaway_id', 'full_name', 'personality_type']]\n",
    "Q16 = castaway_details.loc[:,['castaway_id', 'full_name', 'personality_type']]\n",
    "\n",
    "# Extract the first, second, third and fourth elements/character from the personality_type columnn and assign into respective columns as directed by question\n",
    "Q16['interaction'] = Q16['personality_type'].str[0].replace({'I':0, 'E':1, np.nan:2}).astype(int)\n",
    "Q16['information'] = Q16['personality_type'].str[1].replace({'S':0, 'N':1, np.nan:2}).astype(int)\n",
    "Q16['decision'] = Q16['personality_type'].str[2].replace({'T':0, 'F':1, np.nan:2}).astype(int)\n",
    "Q16['organization'] = Q16['personality_type'].str[3].replace({'J':0, 'P':1, np.nan:2}).astype(int)\n",
    "\n",
    "# Sort the resulting dataframe by castaway_id\n",
    "Q16.sort_values(['castaway_id'], inplace=True)"
   ]
  },
  {
   "cell_type": "markdown",
   "metadata": {},
   "source": [
    "**Q17:** Using data from `castaways`, create a DataFrame called `Q17` that bins the contestant ages (their age when they were on the season, not their current age) into the following age categories:\n",
    "- 18-24\n",
    "- 25-34\n",
    "- 35-44\n",
    "- 45-54\n",
    "- 55-64\n",
    "- 65+\n",
    "\n",
    "The final DataFrame should have the following columns in this order: `season`, `castaway_id`, `full_name`, `age`, and `age_category`.  The DataFrame should be sorted by age and then castaway_id.  The index should be 0 through n-1.  You should have the same amount of rows as in the `castaways` DataFrame.\n",
    "\n",
    "Remember: Don't change any of the original DataFrames or CodeGrade will not work correctly for this assignment.  Make sure you use `copy()` if needed."
   ]
  },
  {
   "cell_type": "code",
   "execution_count": 43,
   "metadata": {},
   "outputs": [],
   "source": [
    "# make a copy of castaways\n",
    "#castaways_copy = castaways.copy()\n",
    "# create a bin for age column\n",
    "bins = [18, 24, 34, 44, 54, 64, 100]\n",
    "#castaways_copy['age_category'] = pd.cut(castaways_copy['age'], bins)\n",
    "Q17 = castaways.copy()\n",
    "bins = [18, 24, 34, 44, 54, 64, 100]\n",
    "Q17['age_category'] = pd.cut(Q17['age'], bins)\n",
    "Q17 = Q17[['season','castaway_id','full_name','age','age_category']].sort_values(['age','castaway_id']).reset_index()"
   ]
  },
  {
   "cell_type": "markdown",
   "metadata": {},
   "source": [
    "**Q18:** Based on the age categories you created above, what are the normalized percentages for the various age categories using `value_counts()`.  Sort the value counts by index.  Save this as `Q18`."
   ]
  },
  {
   "cell_type": "code",
   "execution_count": 44,
   "metadata": {},
   "outputs": [],
   "source": [
    "#Q18 = Q17['age_category'].value_counts(normalize=True).mul(100).round(1).astype(str) + '%'\n",
    "# or\n",
    "Q18 = Q17['age_category'].value_counts(normalize=True).mul(100)"
   ]
  },
  {
   "cell_type": "markdown",
   "metadata": {},
   "source": [
    "**Q19:** Which contestant(s) played a perfect game?  A perfect game is considered when the contestant:\n",
    "- didn't receive any tribal council votes all season (this is different than Q10 since some players played multiple times.  They got voted out in one season so they would not show in Q10 but they came back for another season and didn't receive any tribal council votes)\n",
    "- won the game\n",
    "- got unanimous jury votes (see question 12)\n",
    "\n",
    "Save this DataFrame as `Q19` with the following columns: `season_name`, `season`, `castaway_id`, `full_name`, `tribal_council_votes`, `jury_votes`.  The DataFrame should be sorted by season and the index should be 0 to n-1."
   ]
  },
  {
   "cell_type": "code",
   "execution_count": null,
   "metadata": {},
   "outputs": [],
   "source": [
    "vote_history.head(2)"
   ]
  },
  {
   "cell_type": "code",
   "execution_count": null,
   "metadata": {},
   "outputs": [],
   "source": [
    "jury_votes.head(2)"
   ]
  },
  {
   "cell_type": "code",
   "execution_count": null,
   "metadata": {},
   "outputs": [],
   "source": [
    "castaway_details  castaways \n",
    "challenge_description  challenge_results \n",
    "confessionals  hidden_idols \n",
    "jury_votes  tribe_mapping \n",
    "viewers  vote_history \n",
    "season_summary  season_palettes \n",
    "tribe_colours "
   ]
  },
  {
   "cell_type": "code",
   "execution_count": null,
   "metadata": {},
   "outputs": [],
   "source": [
    "merge3e = merge2e.merge(jury_votes, on='castaway_id', suffixes=('_tribal_council', '_jury'))"
   ]
  },
  {
   "cell_type": "code",
   "execution_count": null,
   "metadata": {},
   "outputs": [],
   "source": [
    "merge3e.head(2)"
   ]
  },
  {
   "cell_type": "code",
   "execution_count": null,
   "metadata": {},
   "outputs": [],
   "source": [
    "merge2e = castaway_details.merge(vote_history, on='castaway_id', how='outer')"
   ]
  },
  {
   "cell_type": "code",
   "execution_count": null,
   "metadata": {},
   "outputs": [],
   "source": [
    "merge2e.head(2)"
   ]
  },
  {
   "cell_type": "code",
   "execution_count": null,
   "metadata": {},
   "outputs": [],
   "source": [
    "### ENTER CODE HERE ###"
   ]
  }
 ],
 "metadata": {
  "kernelspec": {
   "display_name": "Python 3 (ipykernel)",
   "language": "python",
   "name": "python3"
  },
  "language_info": {
   "codemirror_mode": {
    "name": "ipython",
    "version": 3
   },
   "file_extension": ".py",
   "mimetype": "text/x-python",
   "name": "python",
   "nbconvert_exporter": "python",
   "pygments_lexer": "ipython3",
   "version": "3.9.12"
  }
 },
 "nbformat": 4,
 "nbformat_minor": 4
}
