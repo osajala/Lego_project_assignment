{
 "cells": [
  {
   "cell_type": "markdown",
   "metadata": {},
   "source": [
    "![LegoSchema](Lego_Schema.PNG)"
   ]
  },
  {
   "cell_type": "markdown",
   "metadata": {},
   "source": [
    "# DTSC 580: Data Manipulation\n",
    "## Assignment: LEGO Project\n",
    "### Name: "
   ]
  },
  {
   "cell_type": "code",
   "execution_count": null,
   "metadata": {},
   "outputs": [],
   "source": [
    "Colum of interest: set_num, fig_num, fig_name, fig_num_parts\n",
    "                   fig_num, fig_name\n",
    "                   set_num, version,name_sets, fig_num, fig_name"
   ]
  },
  {
   "cell_type": "code",
   "execution_count": 3,
   "metadata": {},
   "outputs": [],
   "source": [
    "themeset = themes.merge(sets, left_on='id',right_on='theme_id', suffixes=('_themes', '_sets'))"
   ]
  },
  {
   "cell_type": "code",
   "execution_count": 156,
   "metadata": {},
   "outputs": [],
   "source": [
    "# merge themes to sets\n",
    "themeset = themes.merge(sets, left_on='id',right_on='theme_id', suffixes=('_themes', '_sets'))\n",
    "\n",
    "# merge the output above to inventories\n",
    "themesetinvent = themeset.merge(inventories, on=['id','set_num'], how='outer')\n",
    "\n",
    "# merge the output above to inventory_minifigs\n",
    "themesetinventmini = themesetinvent.merge(inventory_minifigs, left_on='id',right_on='inventory_id',how='outer')\n",
    "\n",
    "# merge the output above to minifigs\n",
    "themesetinventminifig = themesetinventmini.merge(minifigs, on='num_parts',how='outer', suffixes=(None,'_parts'))\n",
    "\n",
    "# Rename the column name to fig_name\n",
    "themesetinventminifig.rename(columns={'name':'fig_name'},inplace=True)"
   ]
  },
  {
   "cell_type": "code",
   "execution_count": 40,
   "metadata": {},
   "outputs": [
    {
     "data": {
      "text/html": [
       "<div>\n",
       "<style scoped>\n",
       "    .dataframe tbody tr th:only-of-type {\n",
       "        vertical-align: middle;\n",
       "    }\n",
       "\n",
       "    .dataframe tbody tr th {\n",
       "        vertical-align: top;\n",
       "    }\n",
       "\n",
       "    .dataframe thead th {\n",
       "        text-align: right;\n",
       "    }\n",
       "</style>\n",
       "<table border=\"1\" class=\"dataframe\">\n",
       "  <thead>\n",
       "    <tr style=\"text-align: right;\">\n",
       "      <th></th>\n",
       "      <th>id</th>\n",
       "      <th>name_themes</th>\n",
       "      <th>parent_id</th>\n",
       "      <th>set_num</th>\n",
       "      <th>name_sets</th>\n",
       "      <th>year</th>\n",
       "      <th>theme_id</th>\n",
       "      <th>num_parts</th>\n",
       "      <th>version</th>\n",
       "      <th>inventory_id</th>\n",
       "      <th>fig_num</th>\n",
       "      <th>quantity</th>\n",
       "      <th>fig_num_parts</th>\n",
       "      <th>fig_name</th>\n",
       "    </tr>\n",
       "  </thead>\n",
       "  <tbody>\n",
       "    <tr>\n",
       "      <th>0</th>\n",
       "      <td>1</td>\n",
       "      <td>Technic</td>\n",
       "      <td>NaN</td>\n",
       "      <td>001-1</td>\n",
       "      <td>Gears</td>\n",
       "      <td>1965.0</td>\n",
       "      <td>1.0</td>\n",
       "      <td>43.0</td>\n",
       "      <td>NaN</td>\n",
       "      <td>NaN</td>\n",
       "      <td>NaN</td>\n",
       "      <td>NaN</td>\n",
       "      <td>fig-010202</td>\n",
       "      <td>Iron Golem</td>\n",
       "    </tr>\n",
       "    <tr>\n",
       "      <th>1</th>\n",
       "      <td>1</td>\n",
       "      <td>Technic</td>\n",
       "      <td>NaN</td>\n",
       "      <td>001-1</td>\n",
       "      <td>Gears</td>\n",
       "      <td>1965.0</td>\n",
       "      <td>1.0</td>\n",
       "      <td>43.0</td>\n",
       "      <td>NaN</td>\n",
       "      <td>NaN</td>\n",
       "      <td>NaN</td>\n",
       "      <td>NaN</td>\n",
       "      <td>fig-011494</td>\n",
       "      <td>Iron Golem - Jungle</td>\n",
       "    </tr>\n",
       "  </tbody>\n",
       "</table>\n",
       "</div>"
      ],
      "text/plain": [
       "   id name_themes  parent_id set_num name_sets    year  theme_id  num_parts  \\\n",
       "0   1     Technic        NaN   001-1     Gears  1965.0       1.0       43.0   \n",
       "1   1     Technic        NaN   001-1     Gears  1965.0       1.0       43.0   \n",
       "\n",
       "   version  inventory_id fig_num  quantity fig_num_parts             fig_name  \n",
       "0      NaN           NaN     NaN       NaN    fig-010202           Iron Golem  \n",
       "1      NaN           NaN     NaN       NaN    fig-011494  Iron Golem - Jungle  "
      ]
     },
     "execution_count": 40,
     "metadata": {},
     "output_type": "execute_result"
    }
   ],
   "source": [
    "themesetinventminifig.head(2)"
   ]
  },
  {
   "cell_type": "code",
   "execution_count": 19,
   "metadata": {},
   "outputs": [
    {
     "data": {
      "text/html": [
       "<div>\n",
       "<style scoped>\n",
       "    .dataframe tbody tr th:only-of-type {\n",
       "        vertical-align: middle;\n",
       "    }\n",
       "\n",
       "    .dataframe tbody tr th {\n",
       "        vertical-align: top;\n",
       "    }\n",
       "\n",
       "    .dataframe thead th {\n",
       "        text-align: right;\n",
       "    }\n",
       "</style>\n",
       "<table border=\"1\" class=\"dataframe\">\n",
       "  <thead>\n",
       "    <tr style=\"text-align: right;\">\n",
       "      <th></th>\n",
       "      <th>fig_num</th>\n",
       "      <th>name</th>\n",
       "      <th>num_parts</th>\n",
       "    </tr>\n",
       "  </thead>\n",
       "  <tbody>\n",
       "    <tr>\n",
       "      <th>0</th>\n",
       "      <td>fig-000001</td>\n",
       "      <td>Toy Store Employee</td>\n",
       "      <td>4</td>\n",
       "    </tr>\n",
       "    <tr>\n",
       "      <th>1</th>\n",
       "      <td>fig-000002</td>\n",
       "      <td>Customer Kid</td>\n",
       "      <td>4</td>\n",
       "    </tr>\n",
       "  </tbody>\n",
       "</table>\n",
       "</div>"
      ],
      "text/plain": [
       "      fig_num                name  num_parts\n",
       "0  fig-000001  Toy Store Employee          4\n",
       "1  fig-000002        Customer Kid          4"
      ]
     },
     "execution_count": 19,
     "metadata": {},
     "output_type": "execute_result"
    }
   ],
   "source": [
    "minifigs.head(2)"
   ]
  },
  {
   "cell_type": "markdown",
   "metadata": {},
   "source": [
    "Q14:\n",
    "\n",
    "Create a function called get_minifigs that takes as input a set number (as a string) and a version number (as an integer) and outputs all minifigs from that set / version combination.\n",
    "The DataFrame should be in fig_num order with the following columns/column names: set_num, fig_num, fig_name, fig_num_parts.\n",
    "The index should go from 0 to n-1."
   ]
  },
  {
   "cell_type": "code",
   "execution_count": null,
   "metadata": {},
   "outputs": [],
   "source": []
  },
  {
   "cell_type": "markdown",
   "metadata": {},
   "source": [
    "## Overview\n",
    "\n",
    "In this assignment, you will load the various tables from the [Rebrickable](https://rebrickable.com/) website and perform analysis on the data.  Rebrickable is a fantastic website that is used to show you which LEGO sets you can build from the sets and parts you already own.  They will even show you which parts you are missing to complete the new set and suggest sets that you could purchase to get those parts.  \n",
    "\n",
    "## Data\n",
    "\n",
    "The data has been downloaded directly from their website and includes files for the tables shown in the schema above.  Your first task will be to go through the data and review the schema to understand how the tables all fit together.  There is no data dictionary that I am aware of, but you should be able to understand this data by reviewing the files and schema and visiting their [Download](https://rebrickable.com/downloads/) page and [API](https://rebrickable.com/api/) documentation.  **Note that you must use the files downloaded from Brightspace for this assignment and not download new files from the Rebrickable website.**\n",
    "\n",
    "## Assignment\n",
    "\n",
    "In this assignment, you will create a number of functions to complete certain tasks.  This is not needed if you were working on this project on your own, but since we want to see if you can select the data via Pandas/Numpy, we will use those functions in the automatic grading in CodeGrade.  Without this, students could try to look up the answers in the `csv` files instead of wrangling the data with Python/Pandas, which would defeat the purpose of this class.\n",
    "\n",
    "In addition, we would strongly suggest that you merge data sets as appropriate for the given task.  For example, you might merge the `sets` and `themes` DataFrames to answer one question, and then merge `sets`, `inventories`, `inventory_minifigs`, and `minifigs` to answer another.  This will make your code much easier to write and will be key in working with data across multiple tables.  In fact, I was able to create each function with only one line of code because of the merging of certain data sets.  Also note that you may not use all the tables in this assignment.  This is also an important skill for a Data Scientist to know when to use data and what data is unnecessary.\n",
    "\n",
    "When complete, save your notebook as `lego.ipynb` and submit to CodeGrade for automatic grading.\n",
    "\n",
    "## Note\n",
    "\n",
    "<u>Show Work</u>\n",
    "\n",
    "Remember that you must show your work.  Students submissions are spot checked manually throughout the term to verify that they are not hard coding the answer from looking only in the file or in CodeGrade's expected output.  If this is seen, the student's answer will be manually marked wrong and their grade will be changed to reflect this. \n",
    "\n",
    "For example, if the answer to Q1, the mean of a specific column, is 22:\n",
    "```\n",
    "# correct way\n",
    "Q1 = df['column_name'].mean()\n",
    "\n",
    "# incorrect way\n",
    "Q1 = 22 \n",
    "```\n",
    "\n",
    "Let's start out by importing some standard imports."
   ]
  },
  {
   "cell_type": "code",
   "execution_count": 1,
   "metadata": {},
   "outputs": [],
   "source": [
    "# common imports\n",
    "import pandas as pd\n",
    "import numpy as np\n",
    "\n",
    "# Do not change this option; This allows the CodeGrade auto grading to function correctly\n",
    "pd.set_option('display.max_columns', None)"
   ]
  },
  {
   "cell_type": "markdown",
   "metadata": {},
   "source": [
    "## Import Data\n",
    "\n",
    "Load the various Lego datasets below calling them the same as the name of the table as seen in the schema.  Note that you may or may not have to use all the data sets.  One of the things that all Data Scientists and Analysts have to decide when working on a project is what data is useful for a task and what data is not.  Remember to look at the schema above to see how all the data sets are connected.\n",
    "\n",
    "The autograder in CodeGrade will have the `csv` files in the same location where the notebook is run.  Because of this, please make sure your local files are in the same location as your notebook."
   ]
  },
  {
   "cell_type": "code",
   "execution_count": 2,
   "metadata": {},
   "outputs": [],
   "source": [
    "# import Lego data sets here\n",
    "# make sure that files are in the same folder as your notebook\n",
    "inventories = pd.read_csv('inventories.csv')\n",
    "inventory_sets = pd.read_csv('inventory_sets.csv')\n",
    "sets = pd.read_csv('sets.csv')\n",
    "themes = pd.read_csv('themes.csv')\n",
    "inventory_minifigs = pd.read_csv('inventory_minifigs.csv')\n",
    "minifigs = pd.read_csv('minifigs.csv')\n",
    "inventory_parts = pd.read_csv('inventory_parts.csv')\n",
    "part_categories = pd.read_csv('part_categories.csv')\n",
    "parts = pd.read_csv('parts.csv')\n",
    "colors = pd.read_csv('colors.csv')\n",
    "part_relationships = pd.read_csv('part_relationships.csv')\n",
    "elements = pd.read_csv('elements.csv')"
   ]
  },
  {
   "cell_type": "markdown",
   "metadata": {},
   "source": [
    "## Exploration"
   ]
  },
  {
   "cell_type": "markdown",
   "metadata": {},
   "source": [
    "Take time to look at all of the data sets using `.head()`, `.info()`, `.describe()`, etc to familiarize yourself with the data sets.  As you look at them, notice how the various tables connect together."
   ]
  },
  {
   "cell_type": "code",
   "execution_count": 3,
   "metadata": {},
   "outputs": [
    {
     "data": {
      "text/html": [
       "<div>\n",
       "<style scoped>\n",
       "    .dataframe tbody tr th:only-of-type {\n",
       "        vertical-align: middle;\n",
       "    }\n",
       "\n",
       "    .dataframe tbody tr th {\n",
       "        vertical-align: top;\n",
       "    }\n",
       "\n",
       "    .dataframe thead th {\n",
       "        text-align: right;\n",
       "    }\n",
       "</style>\n",
       "<table border=\"1\" class=\"dataframe\">\n",
       "  <thead>\n",
       "    <tr style=\"text-align: right;\">\n",
       "      <th></th>\n",
       "      <th>count</th>\n",
       "      <th>mean</th>\n",
       "      <th>std</th>\n",
       "      <th>min</th>\n",
       "      <th>25%</th>\n",
       "      <th>50%</th>\n",
       "      <th>75%</th>\n",
       "      <th>max</th>\n",
       "    </tr>\n",
       "  </thead>\n",
       "  <tbody>\n",
       "    <tr>\n",
       "      <th>inventory_id</th>\n",
       "      <td>3413.0</td>\n",
       "      <td>25839.150601</td>\n",
       "      <td>31384.971888</td>\n",
       "      <td>35.0</td>\n",
       "      <td>6117.0</td>\n",
       "      <td>12465.0</td>\n",
       "      <td>27003.0</td>\n",
       "      <td>122081.0</td>\n",
       "    </tr>\n",
       "    <tr>\n",
       "      <th>quantity</th>\n",
       "      <td>3413.0</td>\n",
       "      <td>1.857017</td>\n",
       "      <td>6.123060</td>\n",
       "      <td>1.0</td>\n",
       "      <td>1.0</td>\n",
       "      <td>1.0</td>\n",
       "      <td>1.0</td>\n",
       "      <td>60.0</td>\n",
       "    </tr>\n",
       "  </tbody>\n",
       "</table>\n",
       "</div>"
      ],
      "text/plain": [
       "               count          mean           std   min     25%      50%  \\\n",
       "inventory_id  3413.0  25839.150601  31384.971888  35.0  6117.0  12465.0   \n",
       "quantity      3413.0      1.857017      6.123060   1.0     1.0      1.0   \n",
       "\n",
       "                  75%       max  \n",
       "inventory_id  27003.0  122081.0  \n",
       "quantity          1.0      60.0  "
      ]
     },
     "execution_count": 3,
     "metadata": {},
     "output_type": "execute_result"
    }
   ],
   "source": [
    "inventory_sets.describe().T"
   ]
  },
  {
   "cell_type": "markdown",
   "metadata": {},
   "source": [
    "## Assignment\n",
    "\n",
    "Answer all the questions below using the available data.  There are multiple ways to get some of the answers.  I would suggest that you attempt to merge some data sets as needed to assist with getting answers.  This will make your tasks a lot easier and your code will be cleaner.\n",
    "\n",
    "Also, you will be creating functions to get the answers to some of these questions.  This will make it much easier for you to get answers to similar questions in the future and CodeGrade will be checking your functions using different inputs.  "
   ]
  },
  {
   "cell_type": "markdown",
   "metadata": {},
   "source": [
    "**Q1:** Create a function called `data_count` that takes as input the data set (for example: `sets`) and returns the total number of rows in the data (as an integer).  Nothing else should be returned."
   ]
  },
  {
   "cell_type": "code",
   "execution_count": 4,
   "metadata": {},
   "outputs": [],
   "source": [
    "def data_count(df):\n",
    "    return len(df.index)"
   ]
  },
  {
   "cell_type": "markdown",
   "metadata": {},
   "source": [
    "**Code Check:**  If you call your `data_count` function using the `sets` DataFrame, you should see that there are 18,576 sets represented in the data."
   ]
  },
  {
   "cell_type": "code",
   "execution_count": 5,
   "metadata": {},
   "outputs": [
    {
     "data": {
      "text/plain": [
       "18576"
      ]
     },
     "execution_count": 5,
     "metadata": {},
     "output_type": "execute_result"
    }
   ],
   "source": [
    "data_count(sets)"
   ]
  },
  {
   "cell_type": "markdown",
   "metadata": {},
   "source": [
    "**Q2:** What is the average number of parts for a Lego set (rounded to the nearest integer)?  Save this as `Q2`."
   ]
  },
  {
   "cell_type": "code",
   "execution_count": 6,
   "metadata": {},
   "outputs": [],
   "source": [
    "Q2 = round(sets['num_parts'].mean())"
   ]
  },
  {
   "cell_type": "markdown",
   "metadata": {},
   "source": [
    "**Q3:** What is the median number of parts per set (output as an integer)?  Save this as `Q3`."
   ]
  },
  {
   "cell_type": "code",
   "execution_count": 7,
   "metadata": {},
   "outputs": [],
   "source": [
    "Q3 = round(sets['num_parts'].median())"
   ]
  },
  {
   "cell_type": "markdown",
   "metadata": {},
   "source": [
    "You should see that the median number of parts is much lower than the average number of parts per set.  This tells us that there are some Lego sets with a very high number of parts that brings the average up."
   ]
  },
  {
   "cell_type": "markdown",
   "metadata": {},
   "source": [
    "**Q4:** What is the largest number of parts that a set has? Save this as `Q4`."
   ]
  },
  {
   "cell_type": "code",
   "execution_count": 8,
   "metadata": {},
   "outputs": [],
   "source": [
    "Q4 = sets['num_parts'].max()"
   ]
  },
  {
   "cell_type": "markdown",
   "metadata": {},
   "source": [
    "**Q5:** Given the set with the largest number of parts calculated above, select its row from the `sets` DataFrame.  Save this as `Q5`.  Do not reset the index."
   ]
  },
  {
   "cell_type": "code",
   "execution_count": 9,
   "metadata": {},
   "outputs": [],
   "source": [
    "Q5 = sets.loc[sets['num_parts'] == 11695]"
   ]
  },
  {
   "cell_type": "markdown",
   "metadata": {},
   "source": [
    "**Q6:** Create a function called `select_set_row` where you pass it the `set_num` (as a string) and the function returns the respective row of the DataFrame from `sets`. Do not reset the index."
   ]
  },
  {
   "cell_type": "code",
   "execution_count": 10,
   "metadata": {},
   "outputs": [],
   "source": [
    "def select_set_row(col):\n",
    "    return sets.loc[sets['set_num'] == col]"
   ]
  },
  {
   "cell_type": "code",
   "execution_count": 11,
   "metadata": {},
   "outputs": [
    {
     "data": {
      "text/html": [
       "<div>\n",
       "<style scoped>\n",
       "    .dataframe tbody tr th:only-of-type {\n",
       "        vertical-align: middle;\n",
       "    }\n",
       "\n",
       "    .dataframe tbody tr th {\n",
       "        vertical-align: top;\n",
       "    }\n",
       "\n",
       "    .dataframe thead th {\n",
       "        text-align: right;\n",
       "    }\n",
       "</style>\n",
       "<table border=\"1\" class=\"dataframe\">\n",
       "  <thead>\n",
       "    <tr style=\"text-align: right;\">\n",
       "      <th></th>\n",
       "      <th>set_num</th>\n",
       "      <th>name</th>\n",
       "      <th>year</th>\n",
       "      <th>theme_id</th>\n",
       "      <th>num_parts</th>\n",
       "    </tr>\n",
       "  </thead>\n",
       "  <tbody>\n",
       "    <tr>\n",
       "      <th>0</th>\n",
       "      <td>001-1</td>\n",
       "      <td>Gears</td>\n",
       "      <td>1965</td>\n",
       "      <td>1</td>\n",
       "      <td>43</td>\n",
       "    </tr>\n",
       "    <tr>\n",
       "      <th>1</th>\n",
       "      <td>0011-2</td>\n",
       "      <td>Town Mini-Figures</td>\n",
       "      <td>1979</td>\n",
       "      <td>67</td>\n",
       "      <td>12</td>\n",
       "    </tr>\n",
       "    <tr>\n",
       "      <th>2</th>\n",
       "      <td>0011-3</td>\n",
       "      <td>Castle 2 for 1 Bonus Offer</td>\n",
       "      <td>1987</td>\n",
       "      <td>199</td>\n",
       "      <td>0</td>\n",
       "    </tr>\n",
       "    <tr>\n",
       "      <th>3</th>\n",
       "      <td>0012-1</td>\n",
       "      <td>Space Mini-Figures</td>\n",
       "      <td>1979</td>\n",
       "      <td>143</td>\n",
       "      <td>12</td>\n",
       "    </tr>\n",
       "    <tr>\n",
       "      <th>4</th>\n",
       "      <td>0013-1</td>\n",
       "      <td>Space Mini-Figures</td>\n",
       "      <td>1979</td>\n",
       "      <td>143</td>\n",
       "      <td>12</td>\n",
       "    </tr>\n",
       "  </tbody>\n",
       "</table>\n",
       "</div>"
      ],
      "text/plain": [
       "  set_num                        name  year  theme_id  num_parts\n",
       "0   001-1                       Gears  1965         1         43\n",
       "1  0011-2           Town Mini-Figures  1979        67         12\n",
       "2  0011-3  Castle 2 for 1 Bonus Offer  1987       199          0\n",
       "3  0012-1          Space Mini-Figures  1979       143         12\n",
       "4  0013-1          Space Mini-Figures  1979       143         12"
      ]
     },
     "execution_count": 11,
     "metadata": {},
     "output_type": "execute_result"
    }
   ],
   "source": [
    "sets.head()"
   ]
  },
  {
   "cell_type": "markdown",
   "metadata": {},
   "source": [
    "**Q7:** Create a function called `select_set_numparts` that takes as input a specific number of parts (as an integer) and selects all the rows in the `sets` DataFrame that contain those number of parts.  Return the DataFrame sorted by `year` and then by `set_num`.  Do not reset the index."
   ]
  },
  {
   "cell_type": "code",
   "execution_count": 12,
   "metadata": {},
   "outputs": [],
   "source": [
    "def select_set_numparts(npart):\n",
    "    return sets.loc[sets['num_parts'] == npart].sort_values(['year','set_num'])"
   ]
  },
  {
   "cell_type": "markdown",
   "metadata": {},
   "source": [
    "**Code Check:** Call the `select_set_numparts()` function to select all sets with `0` number of parts.  There should be 3,146 rows returned."
   ]
  },
  {
   "cell_type": "code",
   "execution_count": 13,
   "metadata": {},
   "outputs": [
    {
     "data": {
      "text/html": [
       "<div>\n",
       "<style scoped>\n",
       "    .dataframe tbody tr th:only-of-type {\n",
       "        vertical-align: middle;\n",
       "    }\n",
       "\n",
       "    .dataframe tbody tr th {\n",
       "        vertical-align: top;\n",
       "    }\n",
       "\n",
       "    .dataframe thead th {\n",
       "        text-align: right;\n",
       "    }\n",
       "</style>\n",
       "<table border=\"1\" class=\"dataframe\">\n",
       "  <thead>\n",
       "    <tr style=\"text-align: right;\">\n",
       "      <th></th>\n",
       "      <th>set_num</th>\n",
       "      <th>name</th>\n",
       "      <th>year</th>\n",
       "      <th>theme_id</th>\n",
       "      <th>num_parts</th>\n",
       "    </tr>\n",
       "  </thead>\n",
       "  <tbody>\n",
       "    <tr>\n",
       "      <th>11061</th>\n",
       "      <td>700.1-2</td>\n",
       "      <td>Extra-Large Gift Set (Mursten)</td>\n",
       "      <td>1953</td>\n",
       "      <td>366</td>\n",
       "      <td>0</td>\n",
       "    </tr>\n",
       "    <tr>\n",
       "      <th>17563</th>\n",
       "      <td>b55dk-01</td>\n",
       "      <td>Lego Mursten - System i Leg Byggebog</td>\n",
       "      <td>1955</td>\n",
       "      <td>497</td>\n",
       "      <td>0</td>\n",
       "    </tr>\n",
       "    <tr>\n",
       "      <th>17564</th>\n",
       "      <td>b56de-01</td>\n",
       "      <td>System im Spiel</td>\n",
       "      <td>1956</td>\n",
       "      <td>497</td>\n",
       "      <td>0</td>\n",
       "    </tr>\n",
       "    <tr>\n",
       "      <th>11072</th>\n",
       "      <td>700.2-2</td>\n",
       "      <td>Gift Package</td>\n",
       "      <td>1957</td>\n",
       "      <td>366</td>\n",
       "      <td>0</td>\n",
       "    </tr>\n",
       "    <tr>\n",
       "      <th>11078</th>\n",
       "      <td>700.3A-2</td>\n",
       "      <td>Gift Package</td>\n",
       "      <td>1957</td>\n",
       "      <td>372</td>\n",
       "      <td>0</td>\n",
       "    </tr>\n",
       "    <tr>\n",
       "      <th>...</th>\n",
       "      <td>...</td>\n",
       "      <td>...</td>\n",
       "      <td>...</td>\n",
       "      <td>...</td>\n",
       "      <td>...</td>\n",
       "    </tr>\n",
       "    <tr>\n",
       "      <th>15619</th>\n",
       "      <td>854195-1</td>\n",
       "      <td>Ernie Key Chain</td>\n",
       "      <td>2022</td>\n",
       "      <td>503</td>\n",
       "      <td>0</td>\n",
       "    </tr>\n",
       "    <tr>\n",
       "      <th>15620</th>\n",
       "      <td>854197-1</td>\n",
       "      <td>Demogorgon Key Chain</td>\n",
       "      <td>2022</td>\n",
       "      <td>503</td>\n",
       "      <td>0</td>\n",
       "    </tr>\n",
       "    <tr>\n",
       "      <th>17170</th>\n",
       "      <td>9780744054583-1</td>\n",
       "      <td>DC Comics Super Heroes: Character Encyclopedia...</td>\n",
       "      <td>2022</td>\n",
       "      <td>497</td>\n",
       "      <td>0</td>\n",
       "    </tr>\n",
       "    <tr>\n",
       "      <th>17193</th>\n",
       "      <td>9780794447557-1</td>\n",
       "      <td>City: Color The City</td>\n",
       "      <td>2022</td>\n",
       "      <td>497</td>\n",
       "      <td>0</td>\n",
       "    </tr>\n",
       "    <tr>\n",
       "      <th>17200</th>\n",
       "      <td>9780794448172-1</td>\n",
       "      <td>DC Comics Super Heroes: Ready For Action</td>\n",
       "      <td>2022</td>\n",
       "      <td>497</td>\n",
       "      <td>0</td>\n",
       "    </tr>\n",
       "  </tbody>\n",
       "</table>\n",
       "<p>3146 rows × 5 columns</p>\n",
       "</div>"
      ],
      "text/plain": [
       "               set_num                                               name  \\\n",
       "11061          700.1-2                     Extra-Large Gift Set (Mursten)   \n",
       "17563         b55dk-01               Lego Mursten - System i Leg Byggebog   \n",
       "17564         b56de-01                                    System im Spiel   \n",
       "11072          700.2-2                                       Gift Package   \n",
       "11078         700.3A-2                                       Gift Package   \n",
       "...                ...                                                ...   \n",
       "15619         854195-1                                    Ernie Key Chain   \n",
       "15620         854197-1                               Demogorgon Key Chain   \n",
       "17170  9780744054583-1  DC Comics Super Heroes: Character Encyclopedia...   \n",
       "17193  9780794447557-1                               City: Color The City   \n",
       "17200  9780794448172-1           DC Comics Super Heroes: Ready For Action   \n",
       "\n",
       "       year  theme_id  num_parts  \n",
       "11061  1953       366          0  \n",
       "17563  1955       497          0  \n",
       "17564  1956       497          0  \n",
       "11072  1957       366          0  \n",
       "11078  1957       372          0  \n",
       "...     ...       ...        ...  \n",
       "15619  2022       503          0  \n",
       "15620  2022       503          0  \n",
       "17170  2022       497          0  \n",
       "17193  2022       497          0  \n",
       "17200  2022       497          0  \n",
       "\n",
       "[3146 rows x 5 columns]"
      ]
     },
     "execution_count": 13,
     "metadata": {},
     "output_type": "execute_result"
    }
   ],
   "source": [
    "select_set_numparts(0)"
   ]
  },
  {
   "cell_type": "markdown",
   "metadata": {},
   "source": [
    "**Q8:** \n",
    "- The oldest set listed was made in what year?  Save the year as `Q8A` (as an integer).  \n",
    "- The newest set listed was made in what year? Save the year as `Q8B` (as an integer)."
   ]
  },
  {
   "cell_type": "code",
   "execution_count": 14,
   "metadata": {},
   "outputs": [],
   "source": [
    "Q8A = sets['year'].min()"
   ]
  },
  {
   "cell_type": "code",
   "execution_count": 15,
   "metadata": {},
   "outputs": [],
   "source": [
    "Q8B = sets['year'].max()"
   ]
  },
  {
   "cell_type": "markdown",
   "metadata": {},
   "source": [
    "**Q9:** \n",
    "- Create a function called `select_set_year` that takes as input a year (as an integer) and returns the rows from the `sets` DataFrame that matches that year.  Sort the DataFrame by `set_num`.  Do not reset the index."
   ]
  },
  {
   "cell_type": "code",
   "execution_count": 16,
   "metadata": {},
   "outputs": [],
   "source": [
    "def select_set_year(yr):\n",
    "    return sets.loc[sets['year'] == yr].sort_values('set_num')"
   ]
  },
  {
   "cell_type": "markdown",
   "metadata": {},
   "source": [
    "**Q10:** \n",
    "- Create a function called `theme_by_year` that takes as input a year (as an integer) and shows the theme ids and theme names (listed in order by theme id) that were in sets that year.  \n",
    "- The column names must be `id` and `name_themes` (to differentiate between the name of a theme and the name of a set) in that order.  \n",
    "- The index should be reset and go from `0` to `n-1`.  \n",
    "- Each theme should only be listed once even if it appeared in more than one set from that year -- duplicate themes should be based on theme id and not name since there are some themes with the same name but with a different id.\n",
    "- Hint:  It will help if you were to think about merging appropriate DataFrames to help you get this answer."
   ]
  },
  {
   "cell_type": "code",
   "execution_count": 47,
   "metadata": {},
   "outputs": [],
   "source": [
    "# merge the dataset themes and sets\n",
    "theme_sets = themes.merge(sets, left_on = 'id', right_on = 'theme_id', suffixes=('_themes', '_sets'))\n",
    "# create a custome function\n",
    "def theme_by_year(yrs):\n",
    "    return theme_sets[['id','name_themes']][theme_sets['year']== yrs].reset_index(drop=True)    "
   ]
  },
  {
   "cell_type": "markdown",
   "metadata": {},
   "source": [
    "**Code Check:** Call the `theme_by_year()` function on the year `1960`.  Your output should look as follows:\n",
    "\n",
    "| | id | name_themes|\n",
    "|-|---|---|\n",
    "|0|371|Supplemental|\n",
    "|1|497|Books|\n",
    "|2|513|Classic|\n",
    "\n",
    "**Optional Practice:** Call the `theme_by_year()` function using your birth year to see the Lego themes that were popular when you were born."
   ]
  },
  {
   "cell_type": "code",
   "execution_count": 48,
   "metadata": {},
   "outputs": [
    {
     "data": {
      "text/html": [
       "<div>\n",
       "<style scoped>\n",
       "    .dataframe tbody tr th:only-of-type {\n",
       "        vertical-align: middle;\n",
       "    }\n",
       "\n",
       "    .dataframe tbody tr th {\n",
       "        vertical-align: top;\n",
       "    }\n",
       "\n",
       "    .dataframe thead th {\n",
       "        text-align: right;\n",
       "    }\n",
       "</style>\n",
       "<table border=\"1\" class=\"dataframe\">\n",
       "  <thead>\n",
       "    <tr style=\"text-align: right;\">\n",
       "      <th></th>\n",
       "      <th>id</th>\n",
       "      <th>name_themes</th>\n",
       "    </tr>\n",
       "  </thead>\n",
       "  <tbody>\n",
       "    <tr>\n",
       "      <th>0</th>\n",
       "      <td>371</td>\n",
       "      <td>Supplemental</td>\n",
       "    </tr>\n",
       "    <tr>\n",
       "      <th>1</th>\n",
       "      <td>497</td>\n",
       "      <td>Books</td>\n",
       "    </tr>\n",
       "    <tr>\n",
       "      <th>2</th>\n",
       "      <td>513</td>\n",
       "      <td>Classic</td>\n",
       "    </tr>\n",
       "  </tbody>\n",
       "</table>\n",
       "</div>"
      ],
      "text/plain": [
       "    id   name_themes\n",
       "0  371  Supplemental\n",
       "1  497         Books\n",
       "2  513       Classic"
      ]
     },
     "execution_count": 48,
     "metadata": {},
     "output_type": "execute_result"
    }
   ],
   "source": [
    "# code check for the year 1960\n",
    "theme_by_year(1960)"
   ]
  },
  {
   "cell_type": "code",
   "execution_count": 49,
   "metadata": {},
   "outputs": [
    {
     "data": {
      "text/html": [
       "<div>\n",
       "<style scoped>\n",
       "    .dataframe tbody tr th:only-of-type {\n",
       "        vertical-align: middle;\n",
       "    }\n",
       "\n",
       "    .dataframe tbody tr th {\n",
       "        vertical-align: top;\n",
       "    }\n",
       "\n",
       "    .dataframe thead th {\n",
       "        text-align: right;\n",
       "    }\n",
       "</style>\n",
       "<table border=\"1\" class=\"dataframe\">\n",
       "  <thead>\n",
       "    <tr style=\"text-align: right;\">\n",
       "      <th></th>\n",
       "      <th>id</th>\n",
       "      <th>name_themes</th>\n",
       "    </tr>\n",
       "  </thead>\n",
       "  <tbody>\n",
       "    <tr>\n",
       "      <th>0</th>\n",
       "      <td>4</td>\n",
       "      <td>Expert Builder</td>\n",
       "    </tr>\n",
       "    <tr>\n",
       "      <th>1</th>\n",
       "      <td>4</td>\n",
       "      <td>Expert Builder</td>\n",
       "    </tr>\n",
       "    <tr>\n",
       "      <th>2</th>\n",
       "      <td>4</td>\n",
       "      <td>Expert Builder</td>\n",
       "    </tr>\n",
       "    <tr>\n",
       "      <th>3</th>\n",
       "      <td>4</td>\n",
       "      <td>Expert Builder</td>\n",
       "    </tr>\n",
       "    <tr>\n",
       "      <th>4</th>\n",
       "      <td>4</td>\n",
       "      <td>Expert Builder</td>\n",
       "    </tr>\n",
       "    <tr>\n",
       "      <th>...</th>\n",
       "      <td>...</td>\n",
       "      <td>...</td>\n",
       "    </tr>\n",
       "    <tr>\n",
       "      <th>89</th>\n",
       "      <td>668</td>\n",
       "      <td>Scala</td>\n",
       "    </tr>\n",
       "    <tr>\n",
       "      <th>90</th>\n",
       "      <td>668</td>\n",
       "      <td>Scala</td>\n",
       "    </tr>\n",
       "    <tr>\n",
       "      <th>91</th>\n",
       "      <td>668</td>\n",
       "      <td>Scala</td>\n",
       "    </tr>\n",
       "    <tr>\n",
       "      <th>92</th>\n",
       "      <td>668</td>\n",
       "      <td>Scala</td>\n",
       "    </tr>\n",
       "    <tr>\n",
       "      <th>93</th>\n",
       "      <td>668</td>\n",
       "      <td>Scala</td>\n",
       "    </tr>\n",
       "  </tbody>\n",
       "</table>\n",
       "<p>94 rows × 2 columns</p>\n",
       "</div>"
      ],
      "text/plain": [
       "     id     name_themes\n",
       "0     4  Expert Builder\n",
       "1     4  Expert Builder\n",
       "2     4  Expert Builder\n",
       "3     4  Expert Builder\n",
       "4     4  Expert Builder\n",
       "..  ...             ...\n",
       "89  668           Scala\n",
       "90  668           Scala\n",
       "91  668           Scala\n",
       "92  668           Scala\n",
       "93  668           Scala\n",
       "\n",
       "[94 rows x 2 columns]"
      ]
     },
     "execution_count": 49,
     "metadata": {},
     "output_type": "execute_result"
    }
   ],
   "source": [
    "# optional check/optional practive with year of birth\n",
    "theme_by_year(1979)"
   ]
  },
  {
   "cell_type": "markdown",
   "metadata": {},
   "source": [
    "**Q11:** \n",
    "- Create a function called `theme_by_name` that takes as input a theme name and outputs all the sets (in `set_num` order) that had that theme.  \n",
    "- The DataFrame should include the following columns in this order and with these exact names: `set_num`,`name_sets`,`year`,`num_parts`, `theme_id`, and `name_themes`.  \n",
    "- The index should go from `0` to `n-1`."
   ]
  },
  {
   "cell_type": "code",
   "execution_count": 50,
   "metadata": {},
   "outputs": [],
   "source": [
    "def theme_by_name(thname):\n",
    "    return theme_sets[['set_num','name_sets','year','num_parts','theme_id','name_themes']][theme_sets['name_themes']== thname].reset_index()"
   ]
  },
  {
   "cell_type": "markdown",
   "metadata": {},
   "source": [
    "**Code Check:** Call the `theme_by_name()` function using the theme name `Gear`.  You should return 1,904 sets that match that theme name."
   ]
  },
  {
   "cell_type": "code",
   "execution_count": 51,
   "metadata": {},
   "outputs": [
    {
     "data": {
      "text/html": [
       "<div>\n",
       "<style scoped>\n",
       "    .dataframe tbody tr th:only-of-type {\n",
       "        vertical-align: middle;\n",
       "    }\n",
       "\n",
       "    .dataframe tbody tr th {\n",
       "        vertical-align: top;\n",
       "    }\n",
       "\n",
       "    .dataframe thead th {\n",
       "        text-align: right;\n",
       "    }\n",
       "</style>\n",
       "<table border=\"1\" class=\"dataframe\">\n",
       "  <thead>\n",
       "    <tr style=\"text-align: right;\">\n",
       "      <th></th>\n",
       "      <th>index</th>\n",
       "      <th>set_num</th>\n",
       "      <th>name_sets</th>\n",
       "      <th>year</th>\n",
       "      <th>num_parts</th>\n",
       "      <th>theme_id</th>\n",
       "      <th>name_themes</th>\n",
       "    </tr>\n",
       "  </thead>\n",
       "  <tbody>\n",
       "    <tr>\n",
       "      <th>0</th>\n",
       "      <td>10338</td>\n",
       "      <td>11138-1</td>\n",
       "      <td>Bionicle Barraki Wallet</td>\n",
       "      <td>2008</td>\n",
       "      <td>0</td>\n",
       "      <td>501</td>\n",
       "      <td>Gear</td>\n",
       "    </tr>\n",
       "    <tr>\n",
       "      <th>1</th>\n",
       "      <td>10339</td>\n",
       "      <td>119645111436-1</td>\n",
       "      <td>Classic Space Astronaut Plush (Red)</td>\n",
       "      <td>2021</td>\n",
       "      <td>0</td>\n",
       "      <td>501</td>\n",
       "      <td>Gear</td>\n",
       "    </tr>\n",
       "    <tr>\n",
       "      <th>2</th>\n",
       "      <td>10340</td>\n",
       "      <td>119645111504-1</td>\n",
       "      <td>Classic Space Astronaut Plush (Blue)</td>\n",
       "      <td>2021</td>\n",
       "      <td>0</td>\n",
       "      <td>501</td>\n",
       "      <td>Gear</td>\n",
       "    </tr>\n",
       "    <tr>\n",
       "      <th>3</th>\n",
       "      <td>10341</td>\n",
       "      <td>119645111740-1</td>\n",
       "      <td>Classic Space Astronaut Plush (White)</td>\n",
       "      <td>2021</td>\n",
       "      <td>0</td>\n",
       "      <td>501</td>\n",
       "      <td>Gear</td>\n",
       "    </tr>\n",
       "    <tr>\n",
       "      <th>4</th>\n",
       "      <td>10342</td>\n",
       "      <td>119645111818-1</td>\n",
       "      <td>Classic Space Astronaut Plush (Pink)</td>\n",
       "      <td>2021</td>\n",
       "      <td>0</td>\n",
       "      <td>501</td>\n",
       "      <td>Gear</td>\n",
       "    </tr>\n",
       "    <tr>\n",
       "      <th>...</th>\n",
       "      <td>...</td>\n",
       "      <td>...</td>\n",
       "      <td>...</td>\n",
       "      <td>...</td>\n",
       "      <td>...</td>\n",
       "      <td>...</td>\n",
       "      <td>...</td>\n",
       "    </tr>\n",
       "    <tr>\n",
       "      <th>1899</th>\n",
       "      <td>12237</td>\n",
       "      <td>WATCH-3</td>\n",
       "      <td>Watch System Voyager (UFO Space)</td>\n",
       "      <td>1997</td>\n",
       "      <td>29</td>\n",
       "      <td>501</td>\n",
       "      <td>Gear</td>\n",
       "    </tr>\n",
       "    <tr>\n",
       "      <th>1900</th>\n",
       "      <td>12238</td>\n",
       "      <td>WIIGAME-1</td>\n",
       "      <td>Bionicle Heroes - Wii</td>\n",
       "      <td>2007</td>\n",
       "      <td>0</td>\n",
       "      <td>501</td>\n",
       "      <td>Gear</td>\n",
       "    </tr>\n",
       "    <tr>\n",
       "      <th>1901</th>\n",
       "      <td>12239</td>\n",
       "      <td>WIIGAME-2</td>\n",
       "      <td>Indiana Jones: The Original Adventures Video G...</td>\n",
       "      <td>2008</td>\n",
       "      <td>0</td>\n",
       "      <td>501</td>\n",
       "      <td>Gear</td>\n",
       "    </tr>\n",
       "    <tr>\n",
       "      <th>1902</th>\n",
       "      <td>12240</td>\n",
       "      <td>WOODENELEPHANT-1</td>\n",
       "      <td>Original Wooden Elephant Pull-Along Toy and Print</td>\n",
       "      <td>2021</td>\n",
       "      <td>0</td>\n",
       "      <td>501</td>\n",
       "      <td>Gear</td>\n",
       "    </tr>\n",
       "    <tr>\n",
       "      <th>1903</th>\n",
       "      <td>12241</td>\n",
       "      <td>ZX8000-1</td>\n",
       "      <td>ZX 8000 LEGO Sneaker</td>\n",
       "      <td>2020</td>\n",
       "      <td>0</td>\n",
       "      <td>501</td>\n",
       "      <td>Gear</td>\n",
       "    </tr>\n",
       "  </tbody>\n",
       "</table>\n",
       "<p>1904 rows × 7 columns</p>\n",
       "</div>"
      ],
      "text/plain": [
       "      index           set_num  \\\n",
       "0     10338           11138-1   \n",
       "1     10339    119645111436-1   \n",
       "2     10340    119645111504-1   \n",
       "3     10341    119645111740-1   \n",
       "4     10342    119645111818-1   \n",
       "...     ...               ...   \n",
       "1899  12237           WATCH-3   \n",
       "1900  12238         WIIGAME-1   \n",
       "1901  12239         WIIGAME-2   \n",
       "1902  12240  WOODENELEPHANT-1   \n",
       "1903  12241          ZX8000-1   \n",
       "\n",
       "                                              name_sets  year  num_parts  \\\n",
       "0                               Bionicle Barraki Wallet  2008          0   \n",
       "1                   Classic Space Astronaut Plush (Red)  2021          0   \n",
       "2                  Classic Space Astronaut Plush (Blue)  2021          0   \n",
       "3                 Classic Space Astronaut Plush (White)  2021          0   \n",
       "4                  Classic Space Astronaut Plush (Pink)  2021          0   \n",
       "...                                                 ...   ...        ...   \n",
       "1899                   Watch System Voyager (UFO Space)  1997         29   \n",
       "1900                              Bionicle Heroes - Wii  2007          0   \n",
       "1901  Indiana Jones: The Original Adventures Video G...  2008          0   \n",
       "1902  Original Wooden Elephant Pull-Along Toy and Print  2021          0   \n",
       "1903                               ZX 8000 LEGO Sneaker  2020          0   \n",
       "\n",
       "      theme_id name_themes  \n",
       "0          501        Gear  \n",
       "1          501        Gear  \n",
       "2          501        Gear  \n",
       "3          501        Gear  \n",
       "4          501        Gear  \n",
       "...        ...         ...  \n",
       "1899       501        Gear  \n",
       "1900       501        Gear  \n",
       "1901       501        Gear  \n",
       "1902       501        Gear  \n",
       "1903       501        Gear  \n",
       "\n",
       "[1904 rows x 7 columns]"
      ]
     },
     "execution_count": 51,
     "metadata": {},
     "output_type": "execute_result"
    }
   ],
   "source": [
    "theme_by_name('Gear')"
   ]
  },
  {
   "cell_type": "markdown",
   "metadata": {},
   "source": [
    "**Q12:** Create a function called `theme_by_setnum` that takes as input the set_num (as a string) and returns the respective theme name as a string."
   ]
  },
  {
   "cell_type": "code",
   "execution_count": 52,
   "metadata": {},
   "outputs": [],
   "source": [
    "#def theme_by_setnum(num):\n",
    "#    return theme_sets[['name_themes', 'set_num']][theme_sets['set_num'] == num]\n",
    "def theme_by_setnum(num):\n",
    "    return theme_sets['name_themes'][theme_sets['set_num'] == num]"
   ]
  },
  {
   "cell_type": "markdown",
   "metadata": {},
   "source": [
    "**Code Check:** Visit the [Sets page](https://rebrickable.com/sets/) from the Rebrickable website and find a set that you like.  Call your `theme_by_setnum()` function on that set and make sure the correct theme name is output."
   ]
  },
  {
   "cell_type": "code",
   "execution_count": 53,
   "metadata": {},
   "outputs": [
    {
     "data": {
      "text/plain": [
       "4696    Harry Potter\n",
       "Name: name_themes, dtype: object"
      ]
     },
     "execution_count": 53,
     "metadata": {},
     "output_type": "execute_result"
    }
   ],
   "source": [
    "theme_by_setnum('75950-1')"
   ]
  },
  {
   "cell_type": "markdown",
   "metadata": {},
   "source": [
    "**Millennium Falcon Prep Exercise:** Find all the sets named 'Millennium Falcon'. Of these sets, find the set with the largest number of parts.  You will use this information for later questions."
   ]
  },
  {
   "cell_type": "code",
   "execution_count": 54,
   "metadata": {},
   "outputs": [
    {
     "data": {
      "text/plain": [
       "set_num      TRUSWMF-2\n",
       "num_parts         7541\n",
       "dtype: object"
      ]
     },
     "execution_count": 54,
     "metadata": {},
     "output_type": "execute_result"
    }
   ],
   "source": [
    "theme_sets[theme_sets['name_sets'] =='Millennium Falcon']\n",
    "theme_sets[theme_sets['name_sets'] =='Millennium Falcon'][['set_num','num_parts']].max()"
   ]
  },
  {
   "cell_type": "code",
   "execution_count": 77,
   "metadata": {},
   "outputs": [
    {
     "data": {
      "text/html": [
       "<div>\n",
       "<style scoped>\n",
       "    .dataframe tbody tr th:only-of-type {\n",
       "        vertical-align: middle;\n",
       "    }\n",
       "\n",
       "    .dataframe tbody tr th {\n",
       "        vertical-align: top;\n",
       "    }\n",
       "\n",
       "    .dataframe thead th {\n",
       "        text-align: right;\n",
       "    }\n",
       "</style>\n",
       "<table border=\"1\" class=\"dataframe\">\n",
       "  <thead>\n",
       "    <tr style=\"text-align: right;\">\n",
       "      <th></th>\n",
       "      <th>id</th>\n",
       "      <th>name_themes</th>\n",
       "      <th>parent_id</th>\n",
       "      <th>set_num</th>\n",
       "      <th>name_sets</th>\n",
       "      <th>year</th>\n",
       "      <th>theme_id</th>\n",
       "      <th>num_parts</th>\n",
       "    </tr>\n",
       "  </thead>\n",
       "  <tbody>\n",
       "    <tr>\n",
       "      <th>3679</th>\n",
       "      <td>158</td>\n",
       "      <td>Star Wars</td>\n",
       "      <td>NaN</td>\n",
       "      <td>TRUSWMF-2</td>\n",
       "      <td>Millennium Falcon</td>\n",
       "      <td>2018</td>\n",
       "      <td>158</td>\n",
       "      <td>24</td>\n",
       "    </tr>\n",
       "  </tbody>\n",
       "</table>\n",
       "</div>"
      ],
      "text/plain": [
       "       id name_themes  parent_id    set_num          name_sets  year  \\\n",
       "3679  158   Star Wars        NaN  TRUSWMF-2  Millennium Falcon  2018   \n",
       "\n",
       "      theme_id  num_parts  \n",
       "3679       158         24  "
      ]
     },
     "execution_count": 77,
     "metadata": {},
     "output_type": "execute_result"
    }
   ],
   "source": [
    "theme_sets[theme_sets['set_num'] == 'TRUSWMF-2']"
   ]
  },
  {
   "cell_type": "markdown",
   "metadata": {},
   "source": [
    "**Q13:** \n",
    "- How many minifigs are contained in the set from the `Millennium Falcon Prep Exercise`?  Save this as `Q13` (as an integer).  \n",
    "- Note that there are sometimes multiple versions of a set as shown in the `inventories` table.  This will not matter for this question as there is only one version for the respective set but this should be noted for future questions.\n",
    "- Remember to show your work or your answer will manually get marked as incorrect."
   ]
  },
  {
   "cell_type": "code",
   "execution_count": 42,
   "metadata": {},
   "outputs": [],
   "source": [
    "# merge datasets - sets and minifigs\n",
    "set_minifigs = sets.merge(minifigs, left_on='num_parts',right_on='num_parts', suffixes=('_sets', '_minifigs'))\n",
    "\n",
    "# counts numbers of minifigs with set number TRUSWMF-2 \n",
    "Q3 = set_minifigs[set_minifigs['set_num'] =='TRUSWMF-2']['fig_num'].count()"
   ]
  },
  {
   "cell_type": "code",
   "execution_count": null,
   "metadata": {},
   "outputs": [],
   "source": []
  },
  {
   "cell_type": "markdown",
   "metadata": {},
   "source": [
    "**Q14:** \n",
    "- Create a function called `get_minifigs` that takes as input a set number (as a string) and a version number (as an integer) and outputs all minifigs from that set / version combination.  \n",
    "- The DataFrame should be in `fig_num` order with the following columns/column names: `set_num`, `fig_num`, `fig_name`, `fig_num_parts`.  \n",
    "- The index should go from 0 to n-1."
   ]
  },
  {
   "cell_type": "code",
   "execution_count": 59,
   "metadata": {},
   "outputs": [],
   "source": [
    "# merge themes to sets\n",
    "themeset = themes.merge(sets, left_on='id',right_on='theme_id', suffixes=('_themes', '_sets'))\n",
    "\n",
    "# merge the output above to inventories\n",
    "themesetinvent = themeset.merge(inventories, on=['id','set_num'], how='outer')\n",
    "\n",
    "# merge the output above to inventory_minifigs\n",
    "themesetinventmini = themesetinvent.merge(inventory_minifigs, left_on='id',right_on='inventory_id',how='outer')\n",
    "\n",
    "# merge the output above to minifigs\n",
    "themesetinventminifig = themesetinventmini.merge(minifigs, on='num_parts',how = 'outer', suffixes=(None,'_parts'))\n",
    "\n",
    "# Rename the column name to fig_name\n",
    "themesetinventminifig.rename(columns={'name':'fig_name'},inplace=True)"
   ]
  },
  {
   "cell_type": "code",
   "execution_count": 68,
   "metadata": {},
   "outputs": [],
   "source": [
    "def get_minifigs(setnum, vern):\n",
    "    return themesetinventminifig[(themesetinventminifig['set_num'] == setnum) & (themesetinventminifig['version']==vern)][['set_num', 'fig_num', 'fig_name', 'fig_num_parts']].reset_index()"
   ]
  },
  {
   "cell_type": "markdown",
   "metadata": {},
   "source": [
    "**Q15:** Using the above function, output information about the minifigs from the set discussed in the `Millennium Falcon Prep Exercise`.  Save this output as `Q15`."
   ]
  },
  {
   "cell_type": "code",
   "execution_count": 69,
   "metadata": {},
   "outputs": [],
   "source": [
    "Q15 = get_minifigs('TRUSWMF-2', 1)"
   ]
  },
  {
   "cell_type": "markdown",
   "metadata": {},
   "source": [
    "**Code Check:** Make sure that your `get_minifigs()` function works with both version 1 and version 2 of set 10217-1, Harry Potter's Diagon Alley.  Both versions should have 11 minifigs in the DataFrame."
   ]
  },
  {
   "cell_type": "code",
   "execution_count": 71,
   "metadata": {},
   "outputs": [
    {
     "data": {
      "text/html": [
       "<div>\n",
       "<style scoped>\n",
       "    .dataframe tbody tr th:only-of-type {\n",
       "        vertical-align: middle;\n",
       "    }\n",
       "\n",
       "    .dataframe tbody tr th {\n",
       "        vertical-align: top;\n",
       "    }\n",
       "\n",
       "    .dataframe thead th {\n",
       "        text-align: right;\n",
       "    }\n",
       "</style>\n",
       "<table border=\"1\" class=\"dataframe\">\n",
       "  <thead>\n",
       "    <tr style=\"text-align: right;\">\n",
       "      <th></th>\n",
       "      <th>index</th>\n",
       "      <th>set_num</th>\n",
       "      <th>fig_num</th>\n",
       "      <th>fig_name</th>\n",
       "      <th>fig_num_parts</th>\n",
       "    </tr>\n",
       "  </thead>\n",
       "  <tbody>\n",
       "    <tr>\n",
       "      <th>0</th>\n",
       "      <td>141956</td>\n",
       "      <td>10217-1</td>\n",
       "      <td>fig-002229</td>\n",
       "      <td>NaN</td>\n",
       "      <td>NaN</td>\n",
       "    </tr>\n",
       "    <tr>\n",
       "      <th>1</th>\n",
       "      <td>141957</td>\n",
       "      <td>10217-1</td>\n",
       "      <td>fig-006075</td>\n",
       "      <td>NaN</td>\n",
       "      <td>NaN</td>\n",
       "    </tr>\n",
       "    <tr>\n",
       "      <th>2</th>\n",
       "      <td>141958</td>\n",
       "      <td>10217-1</td>\n",
       "      <td>fig-006084</td>\n",
       "      <td>NaN</td>\n",
       "      <td>NaN</td>\n",
       "    </tr>\n",
       "    <tr>\n",
       "      <th>3</th>\n",
       "      <td>141959</td>\n",
       "      <td>10217-1</td>\n",
       "      <td>fig-006130</td>\n",
       "      <td>NaN</td>\n",
       "      <td>NaN</td>\n",
       "    </tr>\n",
       "    <tr>\n",
       "      <th>4</th>\n",
       "      <td>141960</td>\n",
       "      <td>10217-1</td>\n",
       "      <td>fig-006138</td>\n",
       "      <td>NaN</td>\n",
       "      <td>NaN</td>\n",
       "    </tr>\n",
       "    <tr>\n",
       "      <th>5</th>\n",
       "      <td>141961</td>\n",
       "      <td>10217-1</td>\n",
       "      <td>fig-006162</td>\n",
       "      <td>NaN</td>\n",
       "      <td>NaN</td>\n",
       "    </tr>\n",
       "    <tr>\n",
       "      <th>6</th>\n",
       "      <td>141962</td>\n",
       "      <td>10217-1</td>\n",
       "      <td>fig-006163</td>\n",
       "      <td>NaN</td>\n",
       "      <td>NaN</td>\n",
       "    </tr>\n",
       "    <tr>\n",
       "      <th>7</th>\n",
       "      <td>141963</td>\n",
       "      <td>10217-1</td>\n",
       "      <td>fig-006164</td>\n",
       "      <td>NaN</td>\n",
       "      <td>NaN</td>\n",
       "    </tr>\n",
       "    <tr>\n",
       "      <th>8</th>\n",
       "      <td>141964</td>\n",
       "      <td>10217-1</td>\n",
       "      <td>fig-006165</td>\n",
       "      <td>NaN</td>\n",
       "      <td>NaN</td>\n",
       "    </tr>\n",
       "    <tr>\n",
       "      <th>9</th>\n",
       "      <td>141965</td>\n",
       "      <td>10217-1</td>\n",
       "      <td>fig-006166</td>\n",
       "      <td>NaN</td>\n",
       "      <td>NaN</td>\n",
       "    </tr>\n",
       "    <tr>\n",
       "      <th>10</th>\n",
       "      <td>141966</td>\n",
       "      <td>10217-1</td>\n",
       "      <td>fig-006167</td>\n",
       "      <td>NaN</td>\n",
       "      <td>NaN</td>\n",
       "    </tr>\n",
       "  </tbody>\n",
       "</table>\n",
       "</div>"
      ],
      "text/plain": [
       "     index  set_num     fig_num fig_name fig_num_parts\n",
       "0   141956  10217-1  fig-002229      NaN           NaN\n",
       "1   141957  10217-1  fig-006075      NaN           NaN\n",
       "2   141958  10217-1  fig-006084      NaN           NaN\n",
       "3   141959  10217-1  fig-006130      NaN           NaN\n",
       "4   141960  10217-1  fig-006138      NaN           NaN\n",
       "5   141961  10217-1  fig-006162      NaN           NaN\n",
       "6   141962  10217-1  fig-006163      NaN           NaN\n",
       "7   141963  10217-1  fig-006164      NaN           NaN\n",
       "8   141964  10217-1  fig-006165      NaN           NaN\n",
       "9   141965  10217-1  fig-006166      NaN           NaN\n",
       "10  141966  10217-1  fig-006167      NaN           NaN"
      ]
     },
     "execution_count": 71,
     "metadata": {},
     "output_type": "execute_result"
    }
   ],
   "source": [
    "get_minifigs('10217-1', 1)"
   ]
  },
  {
   "cell_type": "code",
   "execution_count": 73,
   "metadata": {},
   "outputs": [
    {
     "data": {
      "text/html": [
       "<div>\n",
       "<style scoped>\n",
       "    .dataframe tbody tr th:only-of-type {\n",
       "        vertical-align: middle;\n",
       "    }\n",
       "\n",
       "    .dataframe tbody tr th {\n",
       "        vertical-align: top;\n",
       "    }\n",
       "\n",
       "    .dataframe thead th {\n",
       "        text-align: right;\n",
       "    }\n",
       "</style>\n",
       "<table border=\"1\" class=\"dataframe\">\n",
       "  <thead>\n",
       "    <tr style=\"text-align: right;\">\n",
       "      <th></th>\n",
       "      <th>index</th>\n",
       "      <th>set_num</th>\n",
       "      <th>fig_num</th>\n",
       "      <th>fig_name</th>\n",
       "      <th>fig_num_parts</th>\n",
       "    </tr>\n",
       "  </thead>\n",
       "  <tbody>\n",
       "    <tr>\n",
       "      <th>0</th>\n",
       "      <td>141956</td>\n",
       "      <td>10217-1</td>\n",
       "      <td>fig-002229</td>\n",
       "      <td>NaN</td>\n",
       "      <td>NaN</td>\n",
       "    </tr>\n",
       "    <tr>\n",
       "      <th>1</th>\n",
       "      <td>141957</td>\n",
       "      <td>10217-1</td>\n",
       "      <td>fig-006075</td>\n",
       "      <td>NaN</td>\n",
       "      <td>NaN</td>\n",
       "    </tr>\n",
       "    <tr>\n",
       "      <th>2</th>\n",
       "      <td>141958</td>\n",
       "      <td>10217-1</td>\n",
       "      <td>fig-006084</td>\n",
       "      <td>NaN</td>\n",
       "      <td>NaN</td>\n",
       "    </tr>\n",
       "    <tr>\n",
       "      <th>3</th>\n",
       "      <td>141959</td>\n",
       "      <td>10217-1</td>\n",
       "      <td>fig-006130</td>\n",
       "      <td>NaN</td>\n",
       "      <td>NaN</td>\n",
       "    </tr>\n",
       "    <tr>\n",
       "      <th>4</th>\n",
       "      <td>141960</td>\n",
       "      <td>10217-1</td>\n",
       "      <td>fig-006138</td>\n",
       "      <td>NaN</td>\n",
       "      <td>NaN</td>\n",
       "    </tr>\n",
       "    <tr>\n",
       "      <th>5</th>\n",
       "      <td>141961</td>\n",
       "      <td>10217-1</td>\n",
       "      <td>fig-006162</td>\n",
       "      <td>NaN</td>\n",
       "      <td>NaN</td>\n",
       "    </tr>\n",
       "    <tr>\n",
       "      <th>6</th>\n",
       "      <td>141962</td>\n",
       "      <td>10217-1</td>\n",
       "      <td>fig-006163</td>\n",
       "      <td>NaN</td>\n",
       "      <td>NaN</td>\n",
       "    </tr>\n",
       "    <tr>\n",
       "      <th>7</th>\n",
       "      <td>141963</td>\n",
       "      <td>10217-1</td>\n",
       "      <td>fig-006164</td>\n",
       "      <td>NaN</td>\n",
       "      <td>NaN</td>\n",
       "    </tr>\n",
       "    <tr>\n",
       "      <th>8</th>\n",
       "      <td>141964</td>\n",
       "      <td>10217-1</td>\n",
       "      <td>fig-006165</td>\n",
       "      <td>NaN</td>\n",
       "      <td>NaN</td>\n",
       "    </tr>\n",
       "    <tr>\n",
       "      <th>9</th>\n",
       "      <td>141965</td>\n",
       "      <td>10217-1</td>\n",
       "      <td>fig-006166</td>\n",
       "      <td>NaN</td>\n",
       "      <td>NaN</td>\n",
       "    </tr>\n",
       "    <tr>\n",
       "      <th>10</th>\n",
       "      <td>141966</td>\n",
       "      <td>10217-1</td>\n",
       "      <td>fig-006167</td>\n",
       "      <td>NaN</td>\n",
       "      <td>NaN</td>\n",
       "    </tr>\n",
       "  </tbody>\n",
       "</table>\n",
       "</div>"
      ],
      "text/plain": [
       "     index  set_num     fig_num fig_name fig_num_parts\n",
       "0   141956  10217-1  fig-002229      NaN           NaN\n",
       "1   141957  10217-1  fig-006075      NaN           NaN\n",
       "2   141958  10217-1  fig-006084      NaN           NaN\n",
       "3   141959  10217-1  fig-006130      NaN           NaN\n",
       "4   141960  10217-1  fig-006138      NaN           NaN\n",
       "5   141961  10217-1  fig-006162      NaN           NaN\n",
       "6   141962  10217-1  fig-006163      NaN           NaN\n",
       "7   141963  10217-1  fig-006164      NaN           NaN\n",
       "8   141964  10217-1  fig-006165      NaN           NaN\n",
       "9   141965  10217-1  fig-006166      NaN           NaN\n",
       "10  141966  10217-1  fig-006167      NaN           NaN"
      ]
     },
     "execution_count": 73,
     "metadata": {},
     "output_type": "execute_result"
    }
   ],
   "source": [
    "get_minifigs('10217-1', 2)"
   ]
  },
  {
   "cell_type": "markdown",
   "metadata": {},
   "source": [
    "**Q16:** \n",
    "- Create a function called `minifigs_from_themes` that takes as input a theme id (as an integer) and outputs all the minifigs contained in sets with that theme.  \n",
    "- The DataFrame should be in `fig_num` order with the following columns/column names: `fig_num`, `fig_name`. \n",
    "- The index should go from 0 to n-1.  \n",
    "- Exact duplicates should be removed so that only unique figs are included."
   ]
  },
  {
   "cell_type": "code",
   "execution_count": 140,
   "metadata": {},
   "outputs": [],
   "source": [
    "def minifigs_from_themes(theid):\n",
    "    Q16 = themesetinventminifig[themesetinventminifig['theme_id'] == theid].sort_values(['fig_num','fig_name']).reset_index(drop=True)\n",
    "    return Q16.drop_duplicates(['fig_name'])"
   ]
  },
  {
   "cell_type": "markdown",
   "metadata": {},
   "source": [
    "**Code Check:** Call the `minifigs_from_themes()` function using the theme number of the set discussed in the `Millennium Falcon Prep Exercise`.  There should be 149 minifigs output for that respective theme."
   ]
  },
  {
   "cell_type": "code",
   "execution_count": 142,
   "metadata": {},
   "outputs": [],
   "source": [
    "minifigs_from_themes(158)"
   ]
  },
  {
   "cell_type": "markdown",
   "metadata": {},
   "source": [
    "**Q17:** \n",
    "- Create a function called `sets_from_minifig` that takes as input a minifig number (as a string) and returns a list of sets a minifig has appeared in.  \n",
    "- Return a DataFrame (sorted by `set_num` and then by `version`) with the following columns: `set_num`, `version`,`name_sets`, `fig_num`, `fig_name`.  \n",
    "- The index should go from 0 to n-1."
   ]
  },
  {
   "cell_type": "code",
   "execution_count": 148,
   "metadata": {},
   "outputs": [],
   "source": [
    "def sets_from_minifig(minnumb):\n",
    "    return themesetinventminifig[themesetinventminifig['fig_num_parts'] == minnumb][['set_num', 'version','name_sets','fig_num','fig_name']].reset_index(drop=True)"
   ]
  },
  {
   "cell_type": "code",
   "execution_count": 149,
   "metadata": {},
   "outputs": [],
   "source": [
    "### ENTER CODE HERE ###    "
   ]
  },
  {
   "cell_type": "markdown",
   "metadata": {},
   "source": [
    "**Code Check:** Call your `sets_from_minifig()` function on one of the Lego Friends minifigs, Andrea, who has figure number: `fig-001039`.  Your function should return a DataFrame that contains the following sets:\n",
    "\n",
    "- Andrea on the Beach\n",
    "- Birthday Party\n",
    "- City Park Cafe"
   ]
  },
  {
   "cell_type": "code",
   "execution_count": 150,
   "metadata": {},
   "outputs": [
    {
     "data": {
      "text/html": [
       "<div>\n",
       "<style scoped>\n",
       "    .dataframe tbody tr th:only-of-type {\n",
       "        vertical-align: middle;\n",
       "    }\n",
       "\n",
       "    .dataframe tbody tr th {\n",
       "        vertical-align: top;\n",
       "    }\n",
       "\n",
       "    .dataframe thead th {\n",
       "        text-align: right;\n",
       "    }\n",
       "</style>\n",
       "<table border=\"1\" class=\"dataframe\">\n",
       "  <thead>\n",
       "    <tr style=\"text-align: right;\">\n",
       "      <th></th>\n",
       "      <th>set_num</th>\n",
       "      <th>version</th>\n",
       "      <th>name_sets</th>\n",
       "      <th>fig_num</th>\n",
       "      <th>fig_name</th>\n",
       "    </tr>\n",
       "  </thead>\n",
       "  <tbody>\n",
       "    <tr>\n",
       "      <th>0</th>\n",
       "      <td>5000281-1</td>\n",
       "      <td>NaN</td>\n",
       "      <td>Chase McCain</td>\n",
       "      <td>fig-000253</td>\n",
       "      <td>Andrea - Bright Light Orange Top, Light Aqua S...</td>\n",
       "    </tr>\n",
       "    <tr>\n",
       "      <th>1</th>\n",
       "      <td>5000281-1</td>\n",
       "      <td>NaN</td>\n",
       "      <td>Chase McCain</td>\n",
       "      <td>fig-000485</td>\n",
       "      <td>Andrea - Bright Light Orange Top, Light Aqua S...</td>\n",
       "    </tr>\n",
       "    <tr>\n",
       "      <th>2</th>\n",
       "      <td>7996-1</td>\n",
       "      <td>NaN</td>\n",
       "      <td>Double Crossover Track</td>\n",
       "      <td>NaN</td>\n",
       "      <td>Andrea - Bright Light Orange Top, Light Aqua S...</td>\n",
       "    </tr>\n",
       "    <tr>\n",
       "      <th>3</th>\n",
       "      <td>2181-1</td>\n",
       "      <td>NaN</td>\n",
       "      <td>Infomaniac</td>\n",
       "      <td>fig-000419</td>\n",
       "      <td>Andrea - Bright Light Orange Top, Light Aqua S...</td>\n",
       "    </tr>\n",
       "    <tr>\n",
       "      <th>4</th>\n",
       "      <td>3384-1</td>\n",
       "      <td>NaN</td>\n",
       "      <td>Train Worker Chupa Chups Promotional</td>\n",
       "      <td>fig-000419</td>\n",
       "      <td>Andrea - Bright Light Orange Top, Light Aqua S...</td>\n",
       "    </tr>\n",
       "    <tr>\n",
       "      <th>...</th>\n",
       "      <td>...</td>\n",
       "      <td>...</td>\n",
       "      <td>...</td>\n",
       "      <td>...</td>\n",
       "      <td>...</td>\n",
       "    </tr>\n",
       "    <tr>\n",
       "      <th>369</th>\n",
       "      <td>COMCON027-1</td>\n",
       "      <td>NaN</td>\n",
       "      <td>Spider-Woman</td>\n",
       "      <td>NaN</td>\n",
       "      <td>Andrea - Bright Light Orange Top, Light Aqua S...</td>\n",
       "    </tr>\n",
       "    <tr>\n",
       "      <th>370</th>\n",
       "      <td>SDCC2016-1</td>\n",
       "      <td>NaN</td>\n",
       "      <td>Steve Rogers Captain America</td>\n",
       "      <td>NaN</td>\n",
       "      <td>Andrea - Bright Light Orange Top, Light Aqua S...</td>\n",
       "    </tr>\n",
       "    <tr>\n",
       "      <th>371</th>\n",
       "      <td>5004081-1</td>\n",
       "      <td>NaN</td>\n",
       "      <td>Plastic Man</td>\n",
       "      <td>NaN</td>\n",
       "      <td>Andrea - Bright Light Orange Top, Light Aqua S...</td>\n",
       "    </tr>\n",
       "    <tr>\n",
       "      <th>372</th>\n",
       "      <td>5002943-1</td>\n",
       "      <td>NaN</td>\n",
       "      <td>Winter Soldier</td>\n",
       "      <td>NaN</td>\n",
       "      <td>Andrea - Bright Light Orange Top, Light Aqua S...</td>\n",
       "    </tr>\n",
       "    <tr>\n",
       "      <th>373</th>\n",
       "      <td>COMCON023-1</td>\n",
       "      <td>NaN</td>\n",
       "      <td>Spider-Man in Black Venom Symbiote Costume</td>\n",
       "      <td>NaN</td>\n",
       "      <td>Andrea - Bright Light Orange Top, Light Aqua S...</td>\n",
       "    </tr>\n",
       "  </tbody>\n",
       "</table>\n",
       "<p>374 rows × 5 columns</p>\n",
       "</div>"
      ],
      "text/plain": [
       "         set_num  version                                   name_sets  \\\n",
       "0      5000281-1      NaN                                Chase McCain   \n",
       "1      5000281-1      NaN                                Chase McCain   \n",
       "2         7996-1      NaN                      Double Crossover Track   \n",
       "3         2181-1      NaN                                  Infomaniac   \n",
       "4         3384-1      NaN        Train Worker Chupa Chups Promotional   \n",
       "..           ...      ...                                         ...   \n",
       "369  COMCON027-1      NaN                                Spider-Woman   \n",
       "370   SDCC2016-1      NaN                Steve Rogers Captain America   \n",
       "371    5004081-1      NaN                                 Plastic Man   \n",
       "372    5002943-1      NaN                              Winter Soldier   \n",
       "373  COMCON023-1      NaN  Spider-Man in Black Venom Symbiote Costume   \n",
       "\n",
       "        fig_num                                           fig_name  \n",
       "0    fig-000253  Andrea - Bright Light Orange Top, Light Aqua S...  \n",
       "1    fig-000485  Andrea - Bright Light Orange Top, Light Aqua S...  \n",
       "2           NaN  Andrea - Bright Light Orange Top, Light Aqua S...  \n",
       "3    fig-000419  Andrea - Bright Light Orange Top, Light Aqua S...  \n",
       "4    fig-000419  Andrea - Bright Light Orange Top, Light Aqua S...  \n",
       "..          ...                                                ...  \n",
       "369         NaN  Andrea - Bright Light Orange Top, Light Aqua S...  \n",
       "370         NaN  Andrea - Bright Light Orange Top, Light Aqua S...  \n",
       "371         NaN  Andrea - Bright Light Orange Top, Light Aqua S...  \n",
       "372         NaN  Andrea - Bright Light Orange Top, Light Aqua S...  \n",
       "373         NaN  Andrea - Bright Light Orange Top, Light Aqua S...  \n",
       "\n",
       "[374 rows x 5 columns]"
      ]
     },
     "execution_count": 150,
     "metadata": {},
     "output_type": "execute_result"
    }
   ],
   "source": [
    "sets_from_minifig('fig-001039')"
   ]
  },
  {
   "cell_type": "code",
   "execution_count": null,
   "metadata": {},
   "outputs": [],
   "source": [
    "### CODE CHECK ###"
   ]
  },
  {
   "cell_type": "code",
   "execution_count": 154,
   "metadata": {},
   "outputs": [
    {
     "data": {
      "text/html": [
       "<div>\n",
       "<style scoped>\n",
       "    .dataframe tbody tr th:only-of-type {\n",
       "        vertical-align: middle;\n",
       "    }\n",
       "\n",
       "    .dataframe tbody tr th {\n",
       "        vertical-align: top;\n",
       "    }\n",
       "\n",
       "    .dataframe thead th {\n",
       "        text-align: right;\n",
       "    }\n",
       "</style>\n",
       "<table border=\"1\" class=\"dataframe\">\n",
       "  <thead>\n",
       "    <tr style=\"text-align: right;\">\n",
       "      <th></th>\n",
       "      <th>id</th>\n",
       "      <th>name_themes</th>\n",
       "      <th>parent_id</th>\n",
       "      <th>set_num</th>\n",
       "      <th>name_sets</th>\n",
       "      <th>year</th>\n",
       "      <th>theme_id</th>\n",
       "      <th>num_parts</th>\n",
       "      <th>version</th>\n",
       "      <th>inventory_id</th>\n",
       "      <th>fig_num</th>\n",
       "      <th>quantity</th>\n",
       "      <th>fig_num_parts</th>\n",
       "      <th>fig_name</th>\n",
       "    </tr>\n",
       "  </thead>\n",
       "  <tbody>\n",
       "    <tr>\n",
       "      <th>107546</th>\n",
       "      <td>494</td>\n",
       "      <td>Friends</td>\n",
       "      <td>NaN</td>\n",
       "      <td>30100-1</td>\n",
       "      <td>Andrea on the Beach</td>\n",
       "      <td>2012.0</td>\n",
       "      <td>494.0</td>\n",
       "      <td>28.0</td>\n",
       "      <td>NaN</td>\n",
       "      <td>NaN</td>\n",
       "      <td>NaN</td>\n",
       "      <td>NaN</td>\n",
       "      <td>fig-002791</td>\n",
       "      <td>Daddy No Legs</td>\n",
       "    </tr>\n",
       "    <tr>\n",
       "      <th>107547</th>\n",
       "      <td>494</td>\n",
       "      <td>Friends</td>\n",
       "      <td>NaN</td>\n",
       "      <td>30100-1</td>\n",
       "      <td>Andrea on the Beach</td>\n",
       "      <td>2012.0</td>\n",
       "      <td>494.0</td>\n",
       "      <td>28.0</td>\n",
       "      <td>NaN</td>\n",
       "      <td>NaN</td>\n",
       "      <td>NaN</td>\n",
       "      <td>NaN</td>\n",
       "      <td>fig-003976</td>\n",
       "      <td>Droideka / Destroyer Droid, Reddish Brown Shel...</td>\n",
       "    </tr>\n",
       "    <tr>\n",
       "      <th>107548</th>\n",
       "      <td>494</td>\n",
       "      <td>Friends</td>\n",
       "      <td>NaN</td>\n",
       "      <td>30100-1</td>\n",
       "      <td>Andrea on the Beach</td>\n",
       "      <td>2012.0</td>\n",
       "      <td>494.0</td>\n",
       "      <td>28.0</td>\n",
       "      <td>NaN</td>\n",
       "      <td>NaN</td>\n",
       "      <td>NaN</td>\n",
       "      <td>NaN</td>\n",
       "      <td>fig-010996</td>\n",
       "      <td>Koopa Troopa, Paratroopa</td>\n",
       "    </tr>\n",
       "  </tbody>\n",
       "</table>\n",
       "</div>"
      ],
      "text/plain": [
       "         id name_themes  parent_id  set_num            name_sets    year  \\\n",
       "107546  494     Friends        NaN  30100-1  Andrea on the Beach  2012.0   \n",
       "107547  494     Friends        NaN  30100-1  Andrea on the Beach  2012.0   \n",
       "107548  494     Friends        NaN  30100-1  Andrea on the Beach  2012.0   \n",
       "\n",
       "        theme_id  num_parts  version  inventory_id fig_num  quantity  \\\n",
       "107546     494.0       28.0      NaN           NaN     NaN       NaN   \n",
       "107547     494.0       28.0      NaN           NaN     NaN       NaN   \n",
       "107548     494.0       28.0      NaN           NaN     NaN       NaN   \n",
       "\n",
       "       fig_num_parts                                           fig_name  \n",
       "107546    fig-002791                                      Daddy No Legs  \n",
       "107547    fig-003976  Droideka / Destroyer Droid, Reddish Brown Shel...  \n",
       "107548    fig-010996                           Koopa Troopa, Paratroopa  "
      ]
     },
     "execution_count": 154,
     "metadata": {},
     "output_type": "execute_result"
    }
   ],
   "source": [
    "themesetinventminifig[themesetinventminifig['name_sets'] =='Andrea on the Beach']"
   ]
  },
  {
   "cell_type": "markdown",
   "metadata": {},
   "source": [
    "**Q18:** \n",
    "\n",
    "*Note:  Before you begin working on this question, please note that CodeGrade has a 1GB RAM limit.  If you see an `Exit -9` code when submitting your assignment, it is probably due to this RAM limit and previous students had an issue with this question causing too much memory usage.  The biggest thing to think about is to only use the tables that you need to answer for this question.  For instance, you do not need any of the minifigs data since this is not needed for the output and the merging of this data could cause the number of rows to \"explode\" in terms of the total count.  I understand that this can be annoying that we have to work around CodeGrade's limitations, but it is good practice in memory management.*\n",
    "\n",
    "*You should only need to merge the following datasets for this answer so as to not go above the RAM limit: `themes`, `sets`, `inventories`, `inventory_parts`, `parts`, and `colors`*\n",
    "\n",
    "- Create a function called `set_parts` that takes as input the set number (as a string) and version number (as an integer) and outputs a DataFrame with each part in the set.  \n",
    "- The DataFrame should have the following columns/column names: `set_num`, `version`, `name_sets`, `year`, `name_themes`, `part_num`, `name_part`, `name_color`,`quantity`,`is_spare`.  \n",
    "- The Data should be sorted by `part_num` and then `name_color`.  \n",
    "- The index should go from 0 to n-1."
   ]
  },
  {
   "cell_type": "code",
   "execution_count": null,
   "metadata": {},
   "outputs": [],
   "source": [
    "inventoriesp = inventories.merge(inventory_parts, left_on='id',right_on='inventory_id')\n",
    "inventoriesp.head(2)\n",
    "inventoriespp = inventoriesp.merge(parts, left_on='part_num',right_on='part_num')\n",
    "inventoriespp.head(2)\n",
    "inventoriespps = inventoriespp.merge(sets, left_on='set_num',right_on='set_num', suffixes=('_part', '_sets'))\n",
    "inventoriespps.head(2)\n",
    "thecol = themes.merge(colors, left_on='id',right_on='id',suffixes=('_themes', '_color'))\n",
    "thecol.head(2)\n",
    "inventoriesppstco = pd.merge(inventoriespps, thecol, how='outer')"
   ]
  },
  {
   "cell_type": "code",
   "execution_count": null,
   "metadata": {},
   "outputs": [],
   "source": [
    "inventoriesppstco[inventoriesppstco['set_num'] == 'TRUSWMF-2']"
   ]
  },
  {
   "cell_type": "code",
   "execution_count": null,
   "metadata": {},
   "outputs": [],
   "source": [
    "def set_parts(numb,vern):\n",
    "    return inventoriesppcst[(inventoriesppcst['set_num']== numb) & inventoriesppcst['version']== vern]['set_num', 'version', 'name_sets', 'year', 'name_themes', 'part_num','name_part','name_color','quantity','is_spare']"
   ]
  },
  {
   "cell_type": "markdown",
   "metadata": {},
   "source": [
    "**Code Check**: Using the `set_parts()` function, output a list of parts for the set discussed in the `Millennium Falcon Prep Exercise`. There should be a total of 730 rows in the DataFrame, which includes 676 parts and 54 spare parts. You can check the respective page on the rebrickable website to verify these results."
   ]
  },
  {
   "cell_type": "code",
   "execution_count": null,
   "metadata": {},
   "outputs": [],
   "source": [
    "### CODE CHECK ###"
   ]
  },
  {
   "cell_type": "markdown",
   "metadata": {},
   "source": [
    "## Optional Exercises\n",
    "These exercises are optional and are not graded by CodeGrade.  They can be used as extra optional practice.\n",
    "\n",
    "- What is the median year for the sets data?  Given the oldest and newest year in the data, what does this median value tell you about whether the number of sets have increased or decreased over the years?\n",
    "- What minifig has the most number of parts?\n",
    "- What minifig shows up in the most number of sets?\n",
    "- When was the first minifig included in a set?\n",
    "- What set has the most number of minifigs\n",
    "- What part is used the most for all sets? \n",
    "- What color is used the most for all parts?\n",
    "- Get a list of all unique color names, sort by color name, and output as a list. \n",
    "- How many total transparent colors are in the colors DataFrame?\n",
    "- Create a function called get_part_colors that takes as input a part number (as a string) and returns a DataFrame of all colors a part has appeared in.\n",
    "- What part / color combination is used the most for all sets?\n",
    "- What part / color combination is used the least for all sets?\n",
    "- Explore some of your favorite themes and which colors are used the most for those themes.\n",
    "- Plot a line graph of the average number of parts per set per year.\n"
   ]
  }
 ],
 "metadata": {
  "kernelspec": {
   "display_name": "Python 3 (ipykernel)",
   "language": "python",
   "name": "python3"
  },
  "language_info": {
   "codemirror_mode": {
    "name": "ipython",
    "version": 3
   },
   "file_extension": ".py",
   "mimetype": "text/x-python",
   "name": "python",
   "nbconvert_exporter": "python",
   "pygments_lexer": "ipython3",
   "version": "3.9.12"
  }
 },
 "nbformat": 4,
 "nbformat_minor": 4
}
